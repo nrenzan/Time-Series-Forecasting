{
  "cells": [
    {
      "cell_type": "markdown",
      "metadata": {
        "id": "6Cg2AbCWLVCB"
      },
      "source": []
    },
    {
      "cell_type": "code",
      "execution_count": 40,
      "metadata": {
        "colab": {
          "base_uri": "https://localhost:8080/"
        },
        "id": "WEoozyxcLTH-",
        "outputId": "6ce0b630-3a00-4713-8359-9365a29e7032"
      },
      "outputs": [
        {
          "output_type": "stream",
          "name": "stdout",
          "text": [
            "Requirement already satisfied: attention in /usr/local/lib/python3.10/dist-packages (5.0.0)\n",
            "Requirement already satisfied: numpy>=1.18.1 in /usr/local/lib/python3.10/dist-packages (from attention) (1.25.2)\n",
            "Requirement already satisfied: tensorflow>=2.1 in /usr/local/lib/python3.10/dist-packages (from attention) (2.15.0)\n",
            "Requirement already satisfied: absl-py>=1.0.0 in /usr/local/lib/python3.10/dist-packages (from tensorflow>=2.1->attention) (1.4.0)\n",
            "Requirement already satisfied: astunparse>=1.6.0 in /usr/local/lib/python3.10/dist-packages (from tensorflow>=2.1->attention) (1.6.3)\n",
            "Requirement already satisfied: flatbuffers>=23.5.26 in /usr/local/lib/python3.10/dist-packages (from tensorflow>=2.1->attention) (24.3.25)\n",
            "Requirement already satisfied: gast!=0.5.0,!=0.5.1,!=0.5.2,>=0.2.1 in /usr/local/lib/python3.10/dist-packages (from tensorflow>=2.1->attention) (0.5.4)\n",
            "Requirement already satisfied: google-pasta>=0.1.1 in /usr/local/lib/python3.10/dist-packages (from tensorflow>=2.1->attention) (0.2.0)\n",
            "Requirement already satisfied: h5py>=2.9.0 in /usr/local/lib/python3.10/dist-packages (from tensorflow>=2.1->attention) (3.9.0)\n",
            "Requirement already satisfied: libclang>=13.0.0 in /usr/local/lib/python3.10/dist-packages (from tensorflow>=2.1->attention) (18.1.1)\n",
            "Requirement already satisfied: ml-dtypes~=0.2.0 in /usr/local/lib/python3.10/dist-packages (from tensorflow>=2.1->attention) (0.2.0)\n",
            "Requirement already satisfied: opt-einsum>=2.3.2 in /usr/local/lib/python3.10/dist-packages (from tensorflow>=2.1->attention) (3.3.0)\n",
            "Requirement already satisfied: packaging in /usr/local/lib/python3.10/dist-packages (from tensorflow>=2.1->attention) (24.0)\n",
            "Requirement already satisfied: protobuf!=4.21.0,!=4.21.1,!=4.21.2,!=4.21.3,!=4.21.4,!=4.21.5,<5.0.0dev,>=3.20.3 in /usr/local/lib/python3.10/dist-packages (from tensorflow>=2.1->attention) (3.20.3)\n",
            "Requirement already satisfied: setuptools in /usr/local/lib/python3.10/dist-packages (from tensorflow>=2.1->attention) (67.7.2)\n",
            "Requirement already satisfied: six>=1.12.0 in /usr/local/lib/python3.10/dist-packages (from tensorflow>=2.1->attention) (1.16.0)\n",
            "Requirement already satisfied: termcolor>=1.1.0 in /usr/local/lib/python3.10/dist-packages (from tensorflow>=2.1->attention) (2.4.0)\n",
            "Requirement already satisfied: typing-extensions>=3.6.6 in /usr/local/lib/python3.10/dist-packages (from tensorflow>=2.1->attention) (4.10.0)\n",
            "Requirement already satisfied: wrapt<1.15,>=1.11.0 in /usr/local/lib/python3.10/dist-packages (from tensorflow>=2.1->attention) (1.14.1)\n",
            "Requirement already satisfied: tensorflow-io-gcs-filesystem>=0.23.1 in /usr/local/lib/python3.10/dist-packages (from tensorflow>=2.1->attention) (0.36.0)\n",
            "Requirement already satisfied: grpcio<2.0,>=1.24.3 in /usr/local/lib/python3.10/dist-packages (from tensorflow>=2.1->attention) (1.62.1)\n",
            "Requirement already satisfied: tensorboard<2.16,>=2.15 in /usr/local/lib/python3.10/dist-packages (from tensorflow>=2.1->attention) (2.15.2)\n",
            "Requirement already satisfied: tensorflow-estimator<2.16,>=2.15.0 in /usr/local/lib/python3.10/dist-packages (from tensorflow>=2.1->attention) (2.15.0)\n",
            "Requirement already satisfied: keras<2.16,>=2.15.0 in /usr/local/lib/python3.10/dist-packages (from tensorflow>=2.1->attention) (2.15.0)\n",
            "Requirement already satisfied: wheel<1.0,>=0.23.0 in /usr/local/lib/python3.10/dist-packages (from astunparse>=1.6.0->tensorflow>=2.1->attention) (0.43.0)\n",
            "Requirement already satisfied: google-auth<3,>=1.6.3 in /usr/local/lib/python3.10/dist-packages (from tensorboard<2.16,>=2.15->tensorflow>=2.1->attention) (2.27.0)\n",
            "Requirement already satisfied: google-auth-oauthlib<2,>=0.5 in /usr/local/lib/python3.10/dist-packages (from tensorboard<2.16,>=2.15->tensorflow>=2.1->attention) (1.2.0)\n",
            "Requirement already satisfied: markdown>=2.6.8 in /usr/local/lib/python3.10/dist-packages (from tensorboard<2.16,>=2.15->tensorflow>=2.1->attention) (3.6)\n",
            "Requirement already satisfied: requests<3,>=2.21.0 in /usr/local/lib/python3.10/dist-packages (from tensorboard<2.16,>=2.15->tensorflow>=2.1->attention) (2.31.0)\n",
            "Requirement already satisfied: tensorboard-data-server<0.8.0,>=0.7.0 in /usr/local/lib/python3.10/dist-packages (from tensorboard<2.16,>=2.15->tensorflow>=2.1->attention) (0.7.2)\n",
            "Requirement already satisfied: werkzeug>=1.0.1 in /usr/local/lib/python3.10/dist-packages (from tensorboard<2.16,>=2.15->tensorflow>=2.1->attention) (3.0.2)\n",
            "Requirement already satisfied: cachetools<6.0,>=2.0.0 in /usr/local/lib/python3.10/dist-packages (from google-auth<3,>=1.6.3->tensorboard<2.16,>=2.15->tensorflow>=2.1->attention) (5.3.3)\n",
            "Requirement already satisfied: pyasn1-modules>=0.2.1 in /usr/local/lib/python3.10/dist-packages (from google-auth<3,>=1.6.3->tensorboard<2.16,>=2.15->tensorflow>=2.1->attention) (0.4.0)\n",
            "Requirement already satisfied: rsa<5,>=3.1.4 in /usr/local/lib/python3.10/dist-packages (from google-auth<3,>=1.6.3->tensorboard<2.16,>=2.15->tensorflow>=2.1->attention) (4.9)\n",
            "Requirement already satisfied: requests-oauthlib>=0.7.0 in /usr/local/lib/python3.10/dist-packages (from google-auth-oauthlib<2,>=0.5->tensorboard<2.16,>=2.15->tensorflow>=2.1->attention) (1.3.1)\n",
            "Requirement already satisfied: charset-normalizer<4,>=2 in /usr/local/lib/python3.10/dist-packages (from requests<3,>=2.21.0->tensorboard<2.16,>=2.15->tensorflow>=2.1->attention) (3.3.2)\n",
            "Requirement already satisfied: idna<4,>=2.5 in /usr/local/lib/python3.10/dist-packages (from requests<3,>=2.21.0->tensorboard<2.16,>=2.15->tensorflow>=2.1->attention) (3.6)\n",
            "Requirement already satisfied: urllib3<3,>=1.21.1 in /usr/local/lib/python3.10/dist-packages (from requests<3,>=2.21.0->tensorboard<2.16,>=2.15->tensorflow>=2.1->attention) (2.0.7)\n",
            "Requirement already satisfied: certifi>=2017.4.17 in /usr/local/lib/python3.10/dist-packages (from requests<3,>=2.21.0->tensorboard<2.16,>=2.15->tensorflow>=2.1->attention) (2024.2.2)\n",
            "Requirement already satisfied: MarkupSafe>=2.1.1 in /usr/local/lib/python3.10/dist-packages (from werkzeug>=1.0.1->tensorboard<2.16,>=2.15->tensorflow>=2.1->attention) (2.1.5)\n",
            "Requirement already satisfied: pyasn1<0.7.0,>=0.4.6 in /usr/local/lib/python3.10/dist-packages (from pyasn1-modules>=0.2.1->google-auth<3,>=1.6.3->tensorboard<2.16,>=2.15->tensorflow>=2.1->attention) (0.6.0)\n",
            "Requirement already satisfied: oauthlib>=3.0.0 in /usr/local/lib/python3.10/dist-packages (from requests-oauthlib>=0.7.0->google-auth-oauthlib<2,>=0.5->tensorboard<2.16,>=2.15->tensorflow>=2.1->attention) (3.2.2)\n"
          ]
        }
      ],
      "source": [
        "pip install attention\n"
      ]
    },
    {
      "cell_type": "code",
      "execution_count": 41,
      "metadata": {
        "id": "6dBpD8ICd9Hp"
      },
      "outputs": [],
      "source": [
        "import pandas as pd\n",
        "import numpy as np\n",
        "from attention import Attention\n",
        "import matplotlib.pyplot as plt\n",
        "from sklearn.preprocessing import MinMaxScaler\n",
        "from tensorflow.keras.models import Model\n",
        "from tensorflow.keras.layers import LSTM, Dense, Bidirectional, Input\n",
        "from tensorflow.keras.callbacks import EarlyStopping, ModelCheckpoint"
      ]
    },
    {
      "cell_type": "code",
      "execution_count": 42,
      "metadata": {
        "id": "FTNHyfjjd_Wl"
      },
      "outputs": [],
      "source": [
        "data = pd.read_csv('/content/Datasets-kathmandu.csv')"
      ]
    },
    {
      "cell_type": "code",
      "source": [
        "data = data.drop(columns = ['ds'])"
      ],
      "metadata": {
        "id": "AV4nptJ8r2SV"
      },
      "execution_count": 43,
      "outputs": []
    },
    {
      "cell_type": "code",
      "execution_count": 44,
      "metadata": {
        "id": "ADh0MBR7egdQ"
      },
      "outputs": [],
      "source": [
        "import pandas as pd\n",
        "\n",
        "# Assuming 'data' is your DataFrame containing the dataset\n",
        "num_data_points = len(data)\n",
        "\n",
        "# Create a date range from '2016-01-01' to the number of df points in 'df'\n",
        "date_range = pd.date_range(start='2016-01-01', periods=num_data_points, freq='D')\n",
        "\n",
        "# Now 'date_range' contains the datetime values starting from '2016-01-01' and ending at the number of df points in 'df'\n",
        "data = pd.concat([data, pd.DataFrame({'ds': date_range})], axis=1)\n"
      ]
    },
    {
      "cell_type": "code",
      "execution_count": 45,
      "metadata": {
        "colab": {
          "base_uri": "https://localhost:8080/"
        },
        "id": "XHrCS8L4ftXd",
        "outputId": "59cd5740-ce53-422b-ad70-3037e7f196da"
      },
      "outputs": [
        {
          "output_type": "execute_result",
          "data": {
            "text/plain": [
              "array([[0.28262424],\n",
              "       [0.2646923 ],\n",
              "       [0.29196114],\n",
              "       ...,\n",
              "       [0.78877635],\n",
              "       [0.76899347],\n",
              "       [0.78141847]])"
            ]
          },
          "metadata": {},
          "execution_count": 45
        }
      ],
      "source": [
        "scaler = MinMaxScaler(feature_range=(0,1))\n",
        "scaled_data = scaler.fit_transform(data['y'].values.reshape(-1,1))\n",
        "unscaled_data = scaler.inverse_transform(scaled_data)\n",
        "scaled_data"
      ]
    },
    {
      "cell_type": "code",
      "execution_count": 46,
      "metadata": {
        "id": "XMzOgzm9gLOT"
      },
      "outputs": [],
      "source": [
        "data['ds'] = pd.to_datetime(data['ds'])\n",
        "\n",
        "# Define the split dates\n",
        "train_end_date = '2021-08-01'\n",
        "test_end_date = '2023-02-28'\n",
        "\n",
        "# Split the data based on the defined dates\n",
        "train_data = scaled_data[data['ds'] <= train_end_date]\n",
        "test_data = scaled_data[(data['ds'] > train_end_date) & (data['ds'] <= test_end_date)]\n",
        "forecast_data = scaled_data[data['ds'] > test_end_date]"
      ]
    },
    {
      "cell_type": "code",
      "execution_count": 65,
      "metadata": {
        "colab": {
          "base_uri": "https://localhost:8080/"
        },
        "id": "72NCZy3kgubz",
        "outputId": "f0836612-6d4c-465d-caf0-ba172cc70903"
      },
      "outputs": [
        {
          "output_type": "stream",
          "name": "stdout",
          "text": [
            "(2020, 20, 1)\n",
            "(2020, 1)\n",
            "(556, 20, 1)\n",
            "(556, 1)\n"
          ]
        }
      ],
      "source": [
        "def create_sequences(data, seq_length):\n",
        "    X = []\n",
        "    y = []\n",
        "    for i in range(len(data) - seq_length):\n",
        "        X.append(data[i:i+seq_length])\n",
        "        y.append(data[i+seq_length])\n",
        "    return np.array(X), np.array(y)\n",
        "\n",
        "sequence_length = 20\n",
        "X_train, y_train = create_sequences(train_data, sequence_length)\n",
        "X_test, y_test = create_sequences(test_data, sequence_length)\n",
        "X_forecast, y_forecast = create_sequences(forecast_data, sequence_length)\n",
        "\n",
        "# check the shape of the data\n",
        "print(X_train.shape)\n",
        "print(y_train.shape)\n",
        "print(X_test.shape)\n",
        "print(y_test.shape)"
      ]
    },
    {
      "cell_type": "code",
      "source": [
        "data['ds'] = pd.to_datetime(data['ds'])\n",
        "\n",
        "test_end_date = '2023-02-28'\n",
        "\n",
        "# Split the data based on the defined dates\n",
        "data = data[data['ds'] <= test_end_date]\n",
        "data"
      ],
      "metadata": {
        "colab": {
          "base_uri": "https://localhost:8080/",
          "height": 424
        },
        "id": "BGoXC_BJVvW7",
        "outputId": "7172248c-5cad-420d-af00-5fa79d02f87b"
      },
      "execution_count": 66,
      "outputs": [
        {
          "output_type": "execute_result",
          "data": {
            "text/plain": [
              "               y         ds\n",
              "0     191.231263 2016-01-01\n",
              "1     183.040896 2016-01-02\n",
              "2     195.495871 2016-01-03\n",
              "3     193.733857 2016-01-04\n",
              "4     193.534451 2016-01-05\n",
              "...          ...        ...\n",
              "2611  340.230000 2023-02-24\n",
              "2612  375.120000 2023-02-25\n",
              "2613  369.380000 2023-02-26\n",
              "2614  369.170000 2023-02-27\n",
              "2615  358.010000 2023-02-28\n",
              "\n",
              "[2616 rows x 2 columns]"
            ],
            "text/html": [
              "\n",
              "  <div id=\"df-50058834-168f-46f4-8a36-e9274c58b730\" class=\"colab-df-container\">\n",
              "    <div>\n",
              "<style scoped>\n",
              "    .dataframe tbody tr th:only-of-type {\n",
              "        vertical-align: middle;\n",
              "    }\n",
              "\n",
              "    .dataframe tbody tr th {\n",
              "        vertical-align: top;\n",
              "    }\n",
              "\n",
              "    .dataframe thead th {\n",
              "        text-align: right;\n",
              "    }\n",
              "</style>\n",
              "<table border=\"1\" class=\"dataframe\">\n",
              "  <thead>\n",
              "    <tr style=\"text-align: right;\">\n",
              "      <th></th>\n",
              "      <th>y</th>\n",
              "      <th>ds</th>\n",
              "    </tr>\n",
              "  </thead>\n",
              "  <tbody>\n",
              "    <tr>\n",
              "      <th>0</th>\n",
              "      <td>191.231263</td>\n",
              "      <td>2016-01-01</td>\n",
              "    </tr>\n",
              "    <tr>\n",
              "      <th>1</th>\n",
              "      <td>183.040896</td>\n",
              "      <td>2016-01-02</td>\n",
              "    </tr>\n",
              "    <tr>\n",
              "      <th>2</th>\n",
              "      <td>195.495871</td>\n",
              "      <td>2016-01-03</td>\n",
              "    </tr>\n",
              "    <tr>\n",
              "      <th>3</th>\n",
              "      <td>193.733857</td>\n",
              "      <td>2016-01-04</td>\n",
              "    </tr>\n",
              "    <tr>\n",
              "      <th>4</th>\n",
              "      <td>193.534451</td>\n",
              "      <td>2016-01-05</td>\n",
              "    </tr>\n",
              "    <tr>\n",
              "      <th>...</th>\n",
              "      <td>...</td>\n",
              "      <td>...</td>\n",
              "    </tr>\n",
              "    <tr>\n",
              "      <th>2611</th>\n",
              "      <td>340.230000</td>\n",
              "      <td>2023-02-24</td>\n",
              "    </tr>\n",
              "    <tr>\n",
              "      <th>2612</th>\n",
              "      <td>375.120000</td>\n",
              "      <td>2023-02-25</td>\n",
              "    </tr>\n",
              "    <tr>\n",
              "      <th>2613</th>\n",
              "      <td>369.380000</td>\n",
              "      <td>2023-02-26</td>\n",
              "    </tr>\n",
              "    <tr>\n",
              "      <th>2614</th>\n",
              "      <td>369.170000</td>\n",
              "      <td>2023-02-27</td>\n",
              "    </tr>\n",
              "    <tr>\n",
              "      <th>2615</th>\n",
              "      <td>358.010000</td>\n",
              "      <td>2023-02-28</td>\n",
              "    </tr>\n",
              "  </tbody>\n",
              "</table>\n",
              "<p>2616 rows × 2 columns</p>\n",
              "</div>\n",
              "    <div class=\"colab-df-buttons\">\n",
              "\n",
              "  <div class=\"colab-df-container\">\n",
              "    <button class=\"colab-df-convert\" onclick=\"convertToInteractive('df-50058834-168f-46f4-8a36-e9274c58b730')\"\n",
              "            title=\"Convert this dataframe to an interactive table.\"\n",
              "            style=\"display:none;\">\n",
              "\n",
              "  <svg xmlns=\"http://www.w3.org/2000/svg\" height=\"24px\" viewBox=\"0 -960 960 960\">\n",
              "    <path d=\"M120-120v-720h720v720H120Zm60-500h600v-160H180v160Zm220 220h160v-160H400v160Zm0 220h160v-160H400v160ZM180-400h160v-160H180v160Zm440 0h160v-160H620v160ZM180-180h160v-160H180v160Zm440 0h160v-160H620v160Z\"/>\n",
              "  </svg>\n",
              "    </button>\n",
              "\n",
              "  <style>\n",
              "    .colab-df-container {\n",
              "      display:flex;\n",
              "      gap: 12px;\n",
              "    }\n",
              "\n",
              "    .colab-df-convert {\n",
              "      background-color: #E8F0FE;\n",
              "      border: none;\n",
              "      border-radius: 50%;\n",
              "      cursor: pointer;\n",
              "      display: none;\n",
              "      fill: #1967D2;\n",
              "      height: 32px;\n",
              "      padding: 0 0 0 0;\n",
              "      width: 32px;\n",
              "    }\n",
              "\n",
              "    .colab-df-convert:hover {\n",
              "      background-color: #E2EBFA;\n",
              "      box-shadow: 0px 1px 2px rgba(60, 64, 67, 0.3), 0px 1px 3px 1px rgba(60, 64, 67, 0.15);\n",
              "      fill: #174EA6;\n",
              "    }\n",
              "\n",
              "    .colab-df-buttons div {\n",
              "      margin-bottom: 4px;\n",
              "    }\n",
              "\n",
              "    [theme=dark] .colab-df-convert {\n",
              "      background-color: #3B4455;\n",
              "      fill: #D2E3FC;\n",
              "    }\n",
              "\n",
              "    [theme=dark] .colab-df-convert:hover {\n",
              "      background-color: #434B5C;\n",
              "      box-shadow: 0px 1px 3px 1px rgba(0, 0, 0, 0.15);\n",
              "      filter: drop-shadow(0px 1px 2px rgba(0, 0, 0, 0.3));\n",
              "      fill: #FFFFFF;\n",
              "    }\n",
              "  </style>\n",
              "\n",
              "    <script>\n",
              "      const buttonEl =\n",
              "        document.querySelector('#df-50058834-168f-46f4-8a36-e9274c58b730 button.colab-df-convert');\n",
              "      buttonEl.style.display =\n",
              "        google.colab.kernel.accessAllowed ? 'block' : 'none';\n",
              "\n",
              "      async function convertToInteractive(key) {\n",
              "        const element = document.querySelector('#df-50058834-168f-46f4-8a36-e9274c58b730');\n",
              "        const dataTable =\n",
              "          await google.colab.kernel.invokeFunction('convertToInteractive',\n",
              "                                                    [key], {});\n",
              "        if (!dataTable) return;\n",
              "\n",
              "        const docLinkHtml = 'Like what you see? Visit the ' +\n",
              "          '<a target=\"_blank\" href=https://colab.research.google.com/notebooks/data_table.ipynb>data table notebook</a>'\n",
              "          + ' to learn more about interactive tables.';\n",
              "        element.innerHTML = '';\n",
              "        dataTable['output_type'] = 'display_data';\n",
              "        await google.colab.output.renderOutput(dataTable, element);\n",
              "        const docLink = document.createElement('div');\n",
              "        docLink.innerHTML = docLinkHtml;\n",
              "        element.appendChild(docLink);\n",
              "      }\n",
              "    </script>\n",
              "  </div>\n",
              "\n",
              "\n",
              "<div id=\"df-77340a1b-3124-4051-b725-4ebd86f6dd83\">\n",
              "  <button class=\"colab-df-quickchart\" onclick=\"quickchart('df-77340a1b-3124-4051-b725-4ebd86f6dd83')\"\n",
              "            title=\"Suggest charts\"\n",
              "            style=\"display:none;\">\n",
              "\n",
              "<svg xmlns=\"http://www.w3.org/2000/svg\" height=\"24px\"viewBox=\"0 0 24 24\"\n",
              "     width=\"24px\">\n",
              "    <g>\n",
              "        <path d=\"M19 3H5c-1.1 0-2 .9-2 2v14c0 1.1.9 2 2 2h14c1.1 0 2-.9 2-2V5c0-1.1-.9-2-2-2zM9 17H7v-7h2v7zm4 0h-2V7h2v10zm4 0h-2v-4h2v4z\"/>\n",
              "    </g>\n",
              "</svg>\n",
              "  </button>\n",
              "\n",
              "<style>\n",
              "  .colab-df-quickchart {\n",
              "      --bg-color: #E8F0FE;\n",
              "      --fill-color: #1967D2;\n",
              "      --hover-bg-color: #E2EBFA;\n",
              "      --hover-fill-color: #174EA6;\n",
              "      --disabled-fill-color: #AAA;\n",
              "      --disabled-bg-color: #DDD;\n",
              "  }\n",
              "\n",
              "  [theme=dark] .colab-df-quickchart {\n",
              "      --bg-color: #3B4455;\n",
              "      --fill-color: #D2E3FC;\n",
              "      --hover-bg-color: #434B5C;\n",
              "      --hover-fill-color: #FFFFFF;\n",
              "      --disabled-bg-color: #3B4455;\n",
              "      --disabled-fill-color: #666;\n",
              "  }\n",
              "\n",
              "  .colab-df-quickchart {\n",
              "    background-color: var(--bg-color);\n",
              "    border: none;\n",
              "    border-radius: 50%;\n",
              "    cursor: pointer;\n",
              "    display: none;\n",
              "    fill: var(--fill-color);\n",
              "    height: 32px;\n",
              "    padding: 0;\n",
              "    width: 32px;\n",
              "  }\n",
              "\n",
              "  .colab-df-quickchart:hover {\n",
              "    background-color: var(--hover-bg-color);\n",
              "    box-shadow: 0 1px 2px rgba(60, 64, 67, 0.3), 0 1px 3px 1px rgba(60, 64, 67, 0.15);\n",
              "    fill: var(--button-hover-fill-color);\n",
              "  }\n",
              "\n",
              "  .colab-df-quickchart-complete:disabled,\n",
              "  .colab-df-quickchart-complete:disabled:hover {\n",
              "    background-color: var(--disabled-bg-color);\n",
              "    fill: var(--disabled-fill-color);\n",
              "    box-shadow: none;\n",
              "  }\n",
              "\n",
              "  .colab-df-spinner {\n",
              "    border: 2px solid var(--fill-color);\n",
              "    border-color: transparent;\n",
              "    border-bottom-color: var(--fill-color);\n",
              "    animation:\n",
              "      spin 1s steps(1) infinite;\n",
              "  }\n",
              "\n",
              "  @keyframes spin {\n",
              "    0% {\n",
              "      border-color: transparent;\n",
              "      border-bottom-color: var(--fill-color);\n",
              "      border-left-color: var(--fill-color);\n",
              "    }\n",
              "    20% {\n",
              "      border-color: transparent;\n",
              "      border-left-color: var(--fill-color);\n",
              "      border-top-color: var(--fill-color);\n",
              "    }\n",
              "    30% {\n",
              "      border-color: transparent;\n",
              "      border-left-color: var(--fill-color);\n",
              "      border-top-color: var(--fill-color);\n",
              "      border-right-color: var(--fill-color);\n",
              "    }\n",
              "    40% {\n",
              "      border-color: transparent;\n",
              "      border-right-color: var(--fill-color);\n",
              "      border-top-color: var(--fill-color);\n",
              "    }\n",
              "    60% {\n",
              "      border-color: transparent;\n",
              "      border-right-color: var(--fill-color);\n",
              "    }\n",
              "    80% {\n",
              "      border-color: transparent;\n",
              "      border-right-color: var(--fill-color);\n",
              "      border-bottom-color: var(--fill-color);\n",
              "    }\n",
              "    90% {\n",
              "      border-color: transparent;\n",
              "      border-bottom-color: var(--fill-color);\n",
              "    }\n",
              "  }\n",
              "</style>\n",
              "\n",
              "  <script>\n",
              "    async function quickchart(key) {\n",
              "      const quickchartButtonEl =\n",
              "        document.querySelector('#' + key + ' button');\n",
              "      quickchartButtonEl.disabled = true;  // To prevent multiple clicks.\n",
              "      quickchartButtonEl.classList.add('colab-df-spinner');\n",
              "      try {\n",
              "        const charts = await google.colab.kernel.invokeFunction(\n",
              "            'suggestCharts', [key], {});\n",
              "      } catch (error) {\n",
              "        console.error('Error during call to suggestCharts:', error);\n",
              "      }\n",
              "      quickchartButtonEl.classList.remove('colab-df-spinner');\n",
              "      quickchartButtonEl.classList.add('colab-df-quickchart-complete');\n",
              "    }\n",
              "    (() => {\n",
              "      let quickchartButtonEl =\n",
              "        document.querySelector('#df-77340a1b-3124-4051-b725-4ebd86f6dd83 button');\n",
              "      quickchartButtonEl.style.display =\n",
              "        google.colab.kernel.accessAllowed ? 'block' : 'none';\n",
              "    })();\n",
              "  </script>\n",
              "</div>\n",
              "    </div>\n",
              "  </div>\n"
            ],
            "application/vnd.google.colaboratory.intrinsic+json": {
              "type": "dataframe",
              "variable_name": "data",
              "summary": "{\n  \"name\": \"data\",\n  \"rows\": 2616,\n  \"fields\": [\n    {\n      \"column\": \"y\",\n      \"properties\": {\n        \"dtype\": \"number\",\n        \"std\": 88.5802651386581,\n        \"min\": 62.14332056211108,\n        \"max\": 494.66,\n        \"num_unique_values\": 2580,\n        \"samples\": [\n          185.6352908341069,\n          340.81,\n          268.0116744623734\n        ],\n        \"semantic_type\": \"\",\n        \"description\": \"\"\n      }\n    },\n    {\n      \"column\": \"ds\",\n      \"properties\": {\n        \"dtype\": \"date\",\n        \"min\": \"2016-01-01 00:00:00\",\n        \"max\": \"2023-02-28 00:00:00\",\n        \"num_unique_values\": 2616,\n        \"samples\": [\n          \"2022-08-31 00:00:00\",\n          \"2018-10-30 00:00:00\",\n          \"2022-01-25 00:00:00\"\n        ],\n        \"semantic_type\": \"\",\n        \"description\": \"\"\n      }\n    }\n  ]\n}"
            }
          },
          "metadata": {},
          "execution_count": 66
        }
      ]
    },
    {
      "cell_type": "code",
      "execution_count": 67,
      "metadata": {
        "id": "pNjrUQJtl_Kz"
      },
      "outputs": [],
      "source": [
        "from keras.layers import Input, GRU, Dense, Attention\n",
        "from keras.models import Model\n",
        "\n",
        "sequence_length = 20  # Specify your sequence length here\n",
        "\n",
        "inputs = Input(shape=(sequence_length, 1))\n",
        "gru_out = GRU(128, return_sequences=True)(inputs)  # GRU layer\n",
        "\n",
        "# Define query and value inputs for the Attention layer\n",
        "query = gru_out  # Query is the output of the GRU layer\n",
        "value = gru_out  # Value is also the output of the GRU layer\n",
        "\n",
        "attention_out = Attention(32)([query, value])  # Attention layer with query and value inputs\n",
        "outputs = Dense(1)(attention_out)\n",
        "\n",
        "model = Model(inputs=inputs, outputs=outputs)\n",
        "model.compile(optimizer=\"adam\", loss=\"mean_squared_error\")\n"
      ]
    },
    {
      "cell_type": "code",
      "execution_count": 68,
      "metadata": {
        "colab": {
          "base_uri": "https://localhost:8080/"
        },
        "id": "h9PrBM7kmGgp",
        "outputId": "08e3b8ef-ae00-4d9f-a95b-a8d048d0ab08"
      },
      "outputs": [
        {
          "output_type": "stream",
          "name": "stdout",
          "text": [
            "Epoch 1/100\n",
            "25/26 [===========================>..] - ETA: 0s - loss: 0.0394\n",
            "Epoch 1: val_loss improved from inf to 0.03431, saving model to best_model.h5\n",
            "26/26 [==============================] - 4s 76ms/step - loss: 0.0390 - val_loss: 0.0343\n",
            "Epoch 2/100\n",
            " 5/26 [====>.........................] - ETA: 0s - loss: 0.0080"
          ]
        },
        {
          "output_type": "stream",
          "name": "stderr",
          "text": [
            "/usr/local/lib/python3.10/dist-packages/keras/src/engine/training.py:3103: UserWarning: You are saving your model as an HDF5 file via `model.save()`. This file format is considered legacy. We recommend using instead the native Keras format, e.g. `model.save('my_model.keras')`.\n",
            "  saving_api.save_model(\n"
          ]
        },
        {
          "output_type": "stream",
          "name": "stdout",
          "text": [
            "24/26 [==========================>...] - ETA: 0s - loss: 0.0057\n",
            "Epoch 2: val_loss improved from 0.03431 to 0.00698, saving model to best_model.h5\n",
            "26/26 [==============================] - 1s 32ms/step - loss: 0.0056 - val_loss: 0.0070\n",
            "Epoch 3/100\n",
            "24/26 [==========================>...] - ETA: 0s - loss: 0.0023\n",
            "Epoch 3: val_loss improved from 0.00698 to 0.00422, saving model to best_model.h5\n",
            "26/26 [==============================] - 1s 33ms/step - loss: 0.0023 - val_loss: 0.0042\n",
            "Epoch 4/100\n",
            "25/26 [===========================>..] - ETA: 0s - loss: 0.0016\n",
            "Epoch 4: val_loss did not improve from 0.00422\n",
            "26/26 [==============================] - 1s 33ms/step - loss: 0.0016 - val_loss: 0.0044\n",
            "Epoch 5/100\n",
            "25/26 [===========================>..] - ETA: 0s - loss: 0.0015\n",
            "Epoch 5: val_loss did not improve from 0.00422\n",
            "26/26 [==============================] - 1s 33ms/step - loss: 0.0015 - val_loss: 0.0044\n",
            "Epoch 6/100\n",
            "25/26 [===========================>..] - ETA: 0s - loss: 0.0015\n",
            "Epoch 6: val_loss did not improve from 0.00422\n",
            "26/26 [==============================] - 1s 31ms/step - loss: 0.0015 - val_loss: 0.0043\n",
            "Epoch 7/100\n",
            "25/26 [===========================>..] - ETA: 0s - loss: 0.0015\n",
            "Epoch 7: val_loss did not improve from 0.00422\n",
            "26/26 [==============================] - 1s 35ms/step - loss: 0.0015 - val_loss: 0.0043\n",
            "Epoch 8/100\n",
            "25/26 [===========================>..] - ETA: 0s - loss: 0.0015\n",
            "Epoch 8: val_loss did not improve from 0.00422\n",
            "26/26 [==============================] - 1s 32ms/step - loss: 0.0015 - val_loss: 0.0043\n",
            "Epoch 9/100\n",
            "25/26 [===========================>..] - ETA: 0s - loss: 0.0015\n",
            "Epoch 9: val_loss did not improve from 0.00422\n",
            "26/26 [==============================] - 1s 38ms/step - loss: 0.0015 - val_loss: 0.0042\n",
            "Epoch 10/100\n",
            "24/26 [==========================>...] - ETA: 0s - loss: 0.0014\n",
            "Epoch 10: val_loss improved from 0.00422 to 0.00421, saving model to best_model.h5\n",
            "26/26 [==============================] - 1s 52ms/step - loss: 0.0014 - val_loss: 0.0042\n",
            "Epoch 11/100\n",
            "25/26 [===========================>..] - ETA: 0s - loss: 0.0014\n",
            "Epoch 11: val_loss did not improve from 0.00421\n",
            "26/26 [==============================] - 1s 35ms/step - loss: 0.0014 - val_loss: 0.0044\n",
            "Epoch 12/100\n",
            "25/26 [===========================>..] - ETA: 0s - loss: 0.0015\n",
            "Epoch 12: val_loss improved from 0.00421 to 0.00419, saving model to best_model.h5\n",
            "26/26 [==============================] - 1s 36ms/step - loss: 0.0015 - val_loss: 0.0042\n",
            "Epoch 13/100\n",
            "25/26 [===========================>..] - ETA: 0s - loss: 0.0014\n",
            "Epoch 13: val_loss did not improve from 0.00419\n",
            "26/26 [==============================] - 1s 34ms/step - loss: 0.0014 - val_loss: 0.0042\n",
            "Epoch 14/100\n",
            "25/26 [===========================>..] - ETA: 0s - loss: 0.0014\n",
            "Epoch 14: val_loss improved from 0.00419 to 0.00413, saving model to best_model.h5\n",
            "26/26 [==============================] - 1s 33ms/step - loss: 0.0014 - val_loss: 0.0041\n",
            "Epoch 15/100\n",
            "25/26 [===========================>..] - ETA: 0s - loss: 0.0014\n",
            "Epoch 15: val_loss improved from 0.00413 to 0.00412, saving model to best_model.h5\n",
            "26/26 [==============================] - 1s 34ms/step - loss: 0.0014 - val_loss: 0.0041\n",
            "Epoch 16/100\n",
            "25/26 [===========================>..] - ETA: 0s - loss: 0.0014\n",
            "Epoch 16: val_loss improved from 0.00412 to 0.00409, saving model to best_model.h5\n",
            "26/26 [==============================] - 1s 32ms/step - loss: 0.0014 - val_loss: 0.0041\n",
            "Epoch 17/100\n",
            "25/26 [===========================>..] - ETA: 0s - loss: 0.0014\n",
            "Epoch 17: val_loss improved from 0.00409 to 0.00408, saving model to best_model.h5\n",
            "26/26 [==============================] - 1s 36ms/step - loss: 0.0014 - val_loss: 0.0041\n",
            "Epoch 18/100\n",
            "25/26 [===========================>..] - ETA: 0s - loss: 0.0014\n",
            "Epoch 18: val_loss did not improve from 0.00408\n",
            "26/26 [==============================] - 1s 37ms/step - loss: 0.0014 - val_loss: 0.0044\n",
            "Epoch 19/100\n",
            "25/26 [===========================>..] - ETA: 0s - loss: 0.0014\n",
            "Epoch 19: val_loss improved from 0.00408 to 0.00404, saving model to best_model.h5\n",
            "26/26 [==============================] - 1s 34ms/step - loss: 0.0014 - val_loss: 0.0040\n",
            "Epoch 20/100\n",
            "25/26 [===========================>..] - ETA: 0s - loss: 0.0014\n",
            "Epoch 20: val_loss improved from 0.00404 to 0.00403, saving model to best_model.h5\n",
            "26/26 [==============================] - 1s 33ms/step - loss: 0.0014 - val_loss: 0.0040\n",
            "Epoch 21/100\n",
            "25/26 [===========================>..] - ETA: 0s - loss: 0.0014\n",
            "Epoch 21: val_loss improved from 0.00403 to 0.00403, saving model to best_model.h5\n",
            "26/26 [==============================] - 1s 36ms/step - loss: 0.0014 - val_loss: 0.0040\n",
            "Epoch 22/100\n",
            "25/26 [===========================>..] - ETA: 0s - loss: 0.0014\n",
            "Epoch 22: val_loss did not improve from 0.00403\n",
            "26/26 [==============================] - 1s 57ms/step - loss: 0.0014 - val_loss: 0.0041\n",
            "Epoch 23/100\n",
            "25/26 [===========================>..] - ETA: 0s - loss: 0.0014\n",
            "Epoch 23: val_loss improved from 0.00403 to 0.00397, saving model to best_model.h5\n",
            "26/26 [==============================] - 1s 33ms/step - loss: 0.0014 - val_loss: 0.0040\n",
            "Epoch 24/100\n",
            "25/26 [===========================>..] - ETA: 0s - loss: 0.0014\n",
            "Epoch 24: val_loss did not improve from 0.00397\n",
            "26/26 [==============================] - 1s 33ms/step - loss: 0.0014 - val_loss: 0.0041\n",
            "Epoch 25/100\n",
            "25/26 [===========================>..] - ETA: 0s - loss: 0.0014\n",
            "Epoch 25: val_loss improved from 0.00397 to 0.00397, saving model to best_model.h5\n",
            "26/26 [==============================] - 1s 33ms/step - loss: 0.0014 - val_loss: 0.0040\n",
            "Epoch 26/100\n",
            "25/26 [===========================>..] - ETA: 0s - loss: 0.0014\n",
            "Epoch 26: val_loss improved from 0.00397 to 0.00396, saving model to best_model.h5\n",
            "26/26 [==============================] - 1s 34ms/step - loss: 0.0014 - val_loss: 0.0040\n",
            "Epoch 27/100\n",
            "25/26 [===========================>..] - ETA: 0s - loss: 0.0014\n",
            "Epoch 27: val_loss improved from 0.00396 to 0.00395, saving model to best_model.h5\n",
            "26/26 [==============================] - 1s 35ms/step - loss: 0.0014 - val_loss: 0.0040\n",
            "Epoch 28/100\n",
            "25/26 [===========================>..] - ETA: 0s - loss: 0.0013\n",
            "Epoch 28: val_loss did not improve from 0.00395\n",
            "26/26 [==============================] - 1s 31ms/step - loss: 0.0013 - val_loss: 0.0041\n",
            "Epoch 29/100\n",
            "25/26 [===========================>..] - ETA: 0s - loss: 0.0014\n",
            "Epoch 29: val_loss improved from 0.00395 to 0.00395, saving model to best_model.h5\n",
            "26/26 [==============================] - 1s 34ms/step - loss: 0.0014 - val_loss: 0.0039\n",
            "Epoch 30/100\n",
            "25/26 [===========================>..] - ETA: 0s - loss: 0.0014\n",
            "Epoch 30: val_loss improved from 0.00395 to 0.00386, saving model to best_model.h5\n",
            "26/26 [==============================] - 1s 35ms/step - loss: 0.0014 - val_loss: 0.0039\n",
            "Epoch 31/100\n",
            "25/26 [===========================>..] - ETA: 0s - loss: 0.0013\n",
            "Epoch 31: val_loss did not improve from 0.00386\n",
            "26/26 [==============================] - 1s 35ms/step - loss: 0.0013 - val_loss: 0.0040\n",
            "Epoch 32/100\n",
            "25/26 [===========================>..] - ETA: 0s - loss: 0.0013\n",
            "Epoch 32: val_loss improved from 0.00386 to 0.00384, saving model to best_model.h5\n",
            "26/26 [==============================] - 1s 36ms/step - loss: 0.0013 - val_loss: 0.0038\n",
            "Epoch 33/100\n",
            "25/26 [===========================>..] - ETA: 0s - loss: 0.0013\n",
            "Epoch 33: val_loss did not improve from 0.00384\n",
            "26/26 [==============================] - 1s 34ms/step - loss: 0.0013 - val_loss: 0.0038\n",
            "Epoch 34/100\n",
            "25/26 [===========================>..] - ETA: 0s - loss: 0.0013\n",
            "Epoch 34: val_loss did not improve from 0.00384\n",
            "26/26 [==============================] - 1s 57ms/step - loss: 0.0013 - val_loss: 0.0039\n",
            "Epoch 35/100\n",
            "24/26 [==========================>...] - ETA: 0s - loss: 0.0013\n",
            "Epoch 35: val_loss improved from 0.00384 to 0.00382, saving model to best_model.h5\n",
            "26/26 [==============================] - 1s 37ms/step - loss: 0.0013 - val_loss: 0.0038\n",
            "Epoch 36/100\n",
            "25/26 [===========================>..] - ETA: 0s - loss: 0.0013\n",
            "Epoch 36: val_loss improved from 0.00382 to 0.00375, saving model to best_model.h5\n",
            "26/26 [==============================] - 1s 34ms/step - loss: 0.0013 - val_loss: 0.0038\n",
            "Epoch 37/100\n",
            "25/26 [===========================>..] - ETA: 0s - loss: 0.0013\n",
            "Epoch 37: val_loss improved from 0.00375 to 0.00373, saving model to best_model.h5\n",
            "26/26 [==============================] - 1s 33ms/step - loss: 0.0013 - val_loss: 0.0037\n",
            "Epoch 38/100\n",
            "25/26 [===========================>..] - ETA: 0s - loss: 0.0013\n",
            "Epoch 38: val_loss improved from 0.00373 to 0.00370, saving model to best_model.h5\n",
            "26/26 [==============================] - 1s 33ms/step - loss: 0.0013 - val_loss: 0.0037\n",
            "Epoch 39/100\n",
            "25/26 [===========================>..] - ETA: 0s - loss: 0.0013\n",
            "Epoch 39: val_loss did not improve from 0.00370\n",
            "26/26 [==============================] - 1s 33ms/step - loss: 0.0013 - val_loss: 0.0039\n",
            "Epoch 40/100\n",
            "24/26 [==========================>...] - ETA: 0s - loss: 0.0012\n",
            "Epoch 40: val_loss did not improve from 0.00370\n",
            "26/26 [==============================] - 1s 31ms/step - loss: 0.0012 - val_loss: 0.0040\n",
            "Epoch 41/100\n",
            "25/26 [===========================>..] - ETA: 0s - loss: 0.0012\n",
            "Epoch 41: val_loss did not improve from 0.00370\n",
            "26/26 [==============================] - 1s 34ms/step - loss: 0.0012 - val_loss: 0.0039\n",
            "Epoch 42/100\n",
            "25/26 [===========================>..] - ETA: 0s - loss: 0.0012\n",
            "Epoch 42: val_loss improved from 0.00370 to 0.00355, saving model to best_model.h5\n",
            "26/26 [==============================] - 1s 36ms/step - loss: 0.0012 - val_loss: 0.0035\n",
            "Epoch 43/100\n",
            "25/26 [===========================>..] - ETA: 0s - loss: 0.0012\n",
            "Epoch 43: val_loss improved from 0.00355 to 0.00344, saving model to best_model.h5\n",
            "26/26 [==============================] - 1s 34ms/step - loss: 0.0012 - val_loss: 0.0034\n",
            "Epoch 44/100\n",
            "25/26 [===========================>..] - ETA: 0s - loss: 0.0012\n",
            "Epoch 44: val_loss did not improve from 0.00344\n",
            "26/26 [==============================] - 1s 35ms/step - loss: 0.0012 - val_loss: 0.0040\n",
            "Epoch 45/100\n",
            "25/26 [===========================>..] - ETA: 0s - loss: 0.0011\n",
            "Epoch 45: val_loss did not improve from 0.00344\n",
            "26/26 [==============================] - 1s 32ms/step - loss: 0.0012 - val_loss: 0.0036\n",
            "Epoch 46/100\n",
            "25/26 [===========================>..] - ETA: 0s - loss: 0.0011\n",
            "Epoch 46: val_loss improved from 0.00344 to 0.00328, saving model to best_model.h5\n",
            "26/26 [==============================] - 1s 47ms/step - loss: 0.0011 - val_loss: 0.0033\n",
            "Epoch 47/100\n",
            "25/26 [===========================>..] - ETA: 0s - loss: 0.0011\n",
            "Epoch 47: val_loss did not improve from 0.00328\n",
            "26/26 [==============================] - 1s 49ms/step - loss: 0.0011 - val_loss: 0.0041\n",
            "Epoch 48/100\n",
            "25/26 [===========================>..] - ETA: 0s - loss: 0.0012\n",
            "Epoch 48: val_loss improved from 0.00328 to 0.00308, saving model to best_model.h5\n",
            "26/26 [==============================] - 1s 34ms/step - loss: 0.0012 - val_loss: 0.0031\n",
            "Epoch 49/100\n",
            "25/26 [===========================>..] - ETA: 0s - loss: 0.0010\n",
            "Epoch 49: val_loss improved from 0.00308 to 0.00306, saving model to best_model.h5\n",
            "26/26 [==============================] - 1s 36ms/step - loss: 0.0010 - val_loss: 0.0031\n",
            "Epoch 50/100\n",
            "25/26 [===========================>..] - ETA: 0s - loss: 0.0010\n",
            "Epoch 50: val_loss did not improve from 0.00306\n",
            "26/26 [==============================] - 1s 32ms/step - loss: 0.0010 - val_loss: 0.0031\n",
            "Epoch 51/100\n",
            "25/26 [===========================>..] - ETA: 0s - loss: 9.4658e-04\n",
            "Epoch 51: val_loss did not improve from 0.00306\n",
            "26/26 [==============================] - 1s 31ms/step - loss: 9.4463e-04 - val_loss: 0.0032\n",
            "Epoch 52/100\n",
            "26/26 [==============================] - ETA: 0s - loss: 9.6444e-04\n",
            "Epoch 52: val_loss did not improve from 0.00306\n",
            "26/26 [==============================] - 1s 32ms/step - loss: 9.6444e-04 - val_loss: 0.0034\n",
            "Epoch 53/100\n",
            "25/26 [===========================>..] - ETA: 0s - loss: 9.2231e-04\n",
            "Epoch 53: val_loss did not improve from 0.00306\n",
            "26/26 [==============================] - 1s 37ms/step - loss: 9.1933e-04 - val_loss: 0.0031\n",
            "Epoch 54/100\n",
            "25/26 [===========================>..] - ETA: 0s - loss: 9.0828e-04\n",
            "Epoch 54: val_loss did not improve from 0.00306\n",
            "26/26 [==============================] - 1s 35ms/step - loss: 9.0830e-04 - val_loss: 0.0031\n",
            "Epoch 55/100\n",
            "25/26 [===========================>..] - ETA: 0s - loss: 8.5825e-04\n",
            "Epoch 55: val_loss did not improve from 0.00306\n",
            "26/26 [==============================] - 1s 33ms/step - loss: 8.6207e-04 - val_loss: 0.0033\n",
            "Epoch 56/100\n",
            "25/26 [===========================>..] - ETA: 0s - loss: 8.5114e-04\n",
            "Epoch 56: val_loss did not improve from 0.00306\n",
            "26/26 [==============================] - 1s 32ms/step - loss: 8.5393e-04 - val_loss: 0.0047\n",
            "Epoch 57/100\n",
            "25/26 [===========================>..] - ETA: 0s - loss: 9.0706e-04\n",
            "Epoch 57: val_loss did not improve from 0.00306\n",
            "26/26 [==============================] - 1s 32ms/step - loss: 9.0208e-04 - val_loss: 0.0031\n",
            "Epoch 58/100\n",
            "25/26 [===========================>..] - ETA: 0s - loss: 8.6348e-04\n",
            "Epoch 58: val_loss improved from 0.00306 to 0.00285, saving model to best_model.h5\n",
            "26/26 [==============================] - 1s 36ms/step - loss: 8.6917e-04 - val_loss: 0.0029\n",
            "Epoch 59/100\n",
            "25/26 [===========================>..] - ETA: 0s - loss: 8.2781e-04\n",
            "Epoch 59: val_loss did not improve from 0.00285\n",
            "26/26 [==============================] - 1s 55ms/step - loss: 8.2554e-04 - val_loss: 0.0029\n",
            "Epoch 60/100\n",
            "24/26 [==========================>...] - ETA: 0s - loss: 9.1374e-04\n",
            "Epoch 60: val_loss did not improve from 0.00285\n",
            "26/26 [==============================] - 1s 32ms/step - loss: 9.0342e-04 - val_loss: 0.0030\n",
            "Epoch 61/100\n",
            "24/26 [==========================>...] - ETA: 0s - loss: 9.7842e-04\n",
            "Epoch 61: val_loss improved from 0.00285 to 0.00285, saving model to best_model.h5\n",
            "26/26 [==============================] - 1s 34ms/step - loss: 9.5700e-04 - val_loss: 0.0029\n",
            "Epoch 62/100\n",
            "24/26 [==========================>...] - ETA: 0s - loss: 8.5295e-04\n",
            "Epoch 62: val_loss did not improve from 0.00285\n",
            "26/26 [==============================] - 1s 30ms/step - loss: 8.4979e-04 - val_loss: 0.0036\n",
            "Epoch 63/100\n",
            "25/26 [===========================>..] - ETA: 0s - loss: 8.3123e-04\n",
            "Epoch 63: val_loss improved from 0.00285 to 0.00284, saving model to best_model.h5\n",
            "26/26 [==============================] - 1s 32ms/step - loss: 8.3515e-04 - val_loss: 0.0028\n",
            "Epoch 64/100\n",
            "25/26 [===========================>..] - ETA: 0s - loss: 7.7457e-04\n",
            "Epoch 64: val_loss did not improve from 0.00284\n",
            "26/26 [==============================] - 1s 32ms/step - loss: 7.7827e-04 - val_loss: 0.0029\n",
            "Epoch 65/100\n",
            "25/26 [===========================>..] - ETA: 0s - loss: 8.5290e-04\n",
            "Epoch 65: val_loss improved from 0.00284 to 0.00274, saving model to best_model.h5\n",
            "26/26 [==============================] - 1s 34ms/step - loss: 8.4833e-04 - val_loss: 0.0027\n",
            "Epoch 66/100\n",
            "25/26 [===========================>..] - ETA: 0s - loss: 7.5749e-04\n",
            "Epoch 66: val_loss improved from 0.00274 to 0.00269, saving model to best_model.h5\n",
            "26/26 [==============================] - 1s 35ms/step - loss: 7.5439e-04 - val_loss: 0.0027\n",
            "Epoch 67/100\n",
            "25/26 [===========================>..] - ETA: 0s - loss: 7.5504e-04\n",
            "Epoch 67: val_loss did not improve from 0.00269\n",
            "26/26 [==============================] - 1s 34ms/step - loss: 7.5276e-04 - val_loss: 0.0036\n",
            "Epoch 68/100\n",
            "25/26 [===========================>..] - ETA: 0s - loss: 7.6368e-04\n",
            "Epoch 68: val_loss improved from 0.00269 to 0.00263, saving model to best_model.h5\n",
            "26/26 [==============================] - 1s 33ms/step - loss: 7.6942e-04 - val_loss: 0.0026\n",
            "Epoch 69/100\n",
            "25/26 [===========================>..] - ETA: 0s - loss: 6.8211e-04\n",
            "Epoch 69: val_loss did not improve from 0.00263\n",
            "26/26 [==============================] - 1s 34ms/step - loss: 6.8170e-04 - val_loss: 0.0027\n",
            "Epoch 70/100\n",
            "25/26 [===========================>..] - ETA: 0s - loss: 6.9016e-04\n",
            "Epoch 70: val_loss improved from 0.00263 to 0.00260, saving model to best_model.h5\n",
            "26/26 [==============================] - 1s 33ms/step - loss: 6.8616e-04 - val_loss: 0.0026\n",
            "Epoch 71/100\n",
            "26/26 [==============================] - ETA: 0s - loss: 6.5731e-04\n",
            "Epoch 71: val_loss did not improve from 0.00260\n",
            "26/26 [==============================] - 1s 42ms/step - loss: 6.5731e-04 - val_loss: 0.0031\n",
            "Epoch 72/100\n",
            "25/26 [===========================>..] - ETA: 0s - loss: 6.9061e-04\n",
            "Epoch 72: val_loss did not improve from 0.00260\n",
            "26/26 [==============================] - 1s 47ms/step - loss: 6.8988e-04 - val_loss: 0.0026\n",
            "Epoch 73/100\n",
            "25/26 [===========================>..] - ETA: 0s - loss: 8.2470e-04\n",
            "Epoch 73: val_loss improved from 0.00260 to 0.00256, saving model to best_model.h5\n",
            "26/26 [==============================] - 1s 33ms/step - loss: 8.2181e-04 - val_loss: 0.0026\n",
            "Epoch 74/100\n",
            "25/26 [===========================>..] - ETA: 0s - loss: 7.4036e-04\n",
            "Epoch 74: val_loss did not improve from 0.00256\n",
            "26/26 [==============================] - 1s 33ms/step - loss: 7.4860e-04 - val_loss: 0.0027\n",
            "Epoch 75/100\n",
            "25/26 [===========================>..] - ETA: 0s - loss: 6.3751e-04\n",
            "Epoch 75: val_loss did not improve from 0.00256\n",
            "26/26 [==============================] - 1s 33ms/step - loss: 6.3871e-04 - val_loss: 0.0027\n",
            "Epoch 76/100\n",
            "25/26 [===========================>..] - ETA: 0s - loss: 6.5760e-04\n",
            "Epoch 76: val_loss did not improve from 0.00256\n",
            "26/26 [==============================] - 1s 57ms/step - loss: 6.5430e-04 - val_loss: 0.0026\n",
            "Epoch 77/100\n",
            "25/26 [===========================>..] - ETA: 0s - loss: 6.5271e-04\n",
            "Epoch 77: val_loss improved from 0.00256 to 0.00251, saving model to best_model.h5\n",
            "26/26 [==============================] - 1s 34ms/step - loss: 6.5040e-04 - val_loss: 0.0025\n",
            "Epoch 78/100\n",
            "25/26 [===========================>..] - ETA: 0s - loss: 6.3067e-04\n",
            "Epoch 78: val_loss improved from 0.00251 to 0.00250, saving model to best_model.h5\n",
            "26/26 [==============================] - 1s 36ms/step - loss: 6.2988e-04 - val_loss: 0.0025\n",
            "Epoch 79/100\n",
            "25/26 [===========================>..] - ETA: 0s - loss: 6.6307e-04\n",
            "Epoch 79: val_loss did not improve from 0.00250\n",
            "26/26 [==============================] - 1s 33ms/step - loss: 6.6187e-04 - val_loss: 0.0026\n",
            "Epoch 80/100\n",
            "25/26 [===========================>..] - ETA: 0s - loss: 6.9245e-04\n",
            "Epoch 80: val_loss did not improve from 0.00250\n",
            "26/26 [==============================] - 1s 33ms/step - loss: 6.9107e-04 - val_loss: 0.0028\n",
            "Epoch 81/100\n",
            "25/26 [===========================>..] - ETA: 0s - loss: 6.4636e-04\n",
            "Epoch 81: val_loss did not improve from 0.00250\n",
            "26/26 [==============================] - 1s 33ms/step - loss: 6.4406e-04 - val_loss: 0.0027\n",
            "Epoch 82/100\n",
            "25/26 [===========================>..] - ETA: 0s - loss: 6.2821e-04\n",
            "Epoch 82: val_loss did not improve from 0.00250\n",
            "26/26 [==============================] - 1s 33ms/step - loss: 6.2496e-04 - val_loss: 0.0025\n",
            "Epoch 83/100\n",
            "26/26 [==============================] - ETA: 0s - loss: 6.2201e-04\n",
            "Epoch 83: val_loss did not improve from 0.00250\n",
            "26/26 [==============================] - 1s 51ms/step - loss: 6.2201e-04 - val_loss: 0.0025\n",
            "Epoch 84/100\n",
            "24/26 [==========================>...] - ETA: 0s - loss: 6.8020e-04\n",
            "Epoch 84: val_loss did not improve from 0.00250\n",
            "26/26 [==============================] - 1s 42ms/step - loss: 6.7792e-04 - val_loss: 0.0026\n",
            "Epoch 85/100\n",
            "25/26 [===========================>..] - ETA: 0s - loss: 6.0799e-04\n",
            "Epoch 85: val_loss improved from 0.00250 to 0.00249, saving model to best_model.h5\n",
            "26/26 [==============================] - 1s 35ms/step - loss: 6.0777e-04 - val_loss: 0.0025\n",
            "Epoch 86/100\n",
            "25/26 [===========================>..] - ETA: 0s - loss: 5.8715e-04\n",
            "Epoch 86: val_loss did not improve from 0.00249\n",
            "26/26 [==============================] - 1s 33ms/step - loss: 5.8632e-04 - val_loss: 0.0026\n",
            "Epoch 87/100\n",
            "25/26 [===========================>..] - ETA: 0s - loss: 6.2822e-04\n",
            "Epoch 87: val_loss did not improve from 0.00249\n",
            "26/26 [==============================] - 1s 32ms/step - loss: 6.2510e-04 - val_loss: 0.0027\n",
            "Epoch 88/100\n",
            "25/26 [===========================>..] - ETA: 0s - loss: 6.3618e-04\n",
            "Epoch 88: val_loss did not improve from 0.00249\n",
            "26/26 [==============================] - 1s 37ms/step - loss: 6.3308e-04 - val_loss: 0.0025\n",
            "Epoch 89/100\n",
            "25/26 [===========================>..] - ETA: 0s - loss: 5.8878e-04\n",
            "Epoch 89: val_loss improved from 0.00249 to 0.00248, saving model to best_model.h5\n",
            "26/26 [==============================] - 1s 33ms/step - loss: 5.8781e-04 - val_loss: 0.0025\n",
            "Epoch 90/100\n",
            "25/26 [===========================>..] - ETA: 0s - loss: 6.1001e-04\n",
            "Epoch 90: val_loss did not improve from 0.00248\n",
            "26/26 [==============================] - 1s 36ms/step - loss: 6.0666e-04 - val_loss: 0.0025\n",
            "Epoch 91/100\n",
            "25/26 [===========================>..] - ETA: 0s - loss: 6.1711e-04\n",
            "Epoch 91: val_loss did not improve from 0.00248\n",
            "26/26 [==============================] - 1s 32ms/step - loss: 6.1472e-04 - val_loss: 0.0025\n",
            "Epoch 92/100\n",
            "25/26 [===========================>..] - ETA: 0s - loss: 5.8327e-04\n",
            "Epoch 92: val_loss did not improve from 0.00248\n",
            "26/26 [==============================] - 1s 32ms/step - loss: 5.8037e-04 - val_loss: 0.0025\n",
            "Epoch 93/100\n",
            "25/26 [===========================>..] - ETA: 0s - loss: 6.2614e-04\n",
            "Epoch 93: val_loss did not improve from 0.00248\n",
            "26/26 [==============================] - 1s 33ms/step - loss: 6.2671e-04 - val_loss: 0.0025\n",
            "Epoch 94/100\n",
            "25/26 [===========================>..] - ETA: 0s - loss: 6.0288e-04\n",
            "Epoch 94: val_loss improved from 0.00248 to 0.00246, saving model to best_model.h5\n",
            "26/26 [==============================] - 1s 33ms/step - loss: 6.0016e-04 - val_loss: 0.0025\n",
            "Epoch 95/100\n",
            "25/26 [===========================>..] - ETA: 0s - loss: 5.7736e-04\n",
            "Epoch 95: val_loss improved from 0.00246 to 0.00243, saving model to best_model.h5\n",
            "26/26 [==============================] - 1s 36ms/step - loss: 5.7665e-04 - val_loss: 0.0024\n",
            "Epoch 96/100\n",
            "25/26 [===========================>..] - ETA: 0s - loss: 5.6725e-04\n",
            "Epoch 96: val_loss improved from 0.00243 to 0.00240, saving model to best_model.h5\n",
            "26/26 [==============================] - 1s 55ms/step - loss: 5.6954e-04 - val_loss: 0.0024\n",
            "Epoch 97/100\n",
            "25/26 [===========================>..] - ETA: 0s - loss: 6.0264e-04\n",
            "Epoch 97: val_loss improved from 0.00240 to 0.00240, saving model to best_model.h5\n",
            "26/26 [==============================] - 1s 35ms/step - loss: 6.0150e-04 - val_loss: 0.0024\n",
            "Epoch 98/100\n",
            "25/26 [===========================>..] - ETA: 0s - loss: 5.6643e-04\n",
            "Epoch 98: val_loss did not improve from 0.00240\n",
            "26/26 [==============================] - 1s 35ms/step - loss: 5.6641e-04 - val_loss: 0.0026\n",
            "Epoch 99/100\n",
            "25/26 [===========================>..] - ETA: 0s - loss: 6.1413e-04\n",
            "Epoch 99: val_loss did not improve from 0.00240\n",
            "26/26 [==============================] - 1s 36ms/step - loss: 6.1612e-04 - val_loss: 0.0026\n",
            "Epoch 100/100\n",
            "25/26 [===========================>..] - ETA: 0s - loss: 6.0697e-04\n",
            "Epoch 100: val_loss did not improve from 0.00240\n",
            "26/26 [==============================] - 1s 32ms/step - loss: 6.0564e-04 - val_loss: 0.0025\n"
          ]
        }
      ],
      "source": [
        "early_stopping = EarlyStopping(monitor='val_loss', patience=10, verbose=1, restore_best_weights=True)\n",
        "model_checkpoint = ModelCheckpoint('best_model.h5', monitor='val_loss', save_best_only=True, verbose=1)\n",
        "\n",
        "# Train the model with validation\n",
        "history = model.fit(X_train, y_train, epochs=100, batch_size=80 , validation_data=(X_test, y_test),\n",
        "                    callbacks=[early_stopping, model_checkpoint])"
      ]
    },
    {
      "cell_type": "code",
      "execution_count": 69,
      "metadata": {
        "colab": {
          "base_uri": "https://localhost:8080/"
        },
        "id": "s_tNzsZdmLQP",
        "outputId": "08827bed-2e36-4077-c6f1-484ff1526eff"
      },
      "outputs": [
        {
          "output_type": "stream",
          "name": "stdout",
          "text": [
            "Train Loss: 0.0005882647819817066\n",
            "Test Loss: 0.002513471059501171\n"
          ]
        }
      ],
      "source": [
        "# Evaluate the model\n",
        "train_loss = model.evaluate(X_train, y_train, verbose=0)\n",
        "test_loss = model.evaluate(X_test, y_test, verbose=0)\n",
        "print(\"Train Loss:\", train_loss)\n",
        "print(\"Test Loss:\", test_loss)"
      ]
    },
    {
      "cell_type": "code",
      "execution_count": 70,
      "metadata": {
        "colab": {
          "base_uri": "https://localhost:8080/",
          "height": 449
        },
        "id": "8VLGUhDHmXUX",
        "outputId": "05559d4e-5c58-4fd9-b2cc-8e72b172ad80"
      },
      "outputs": [
        {
          "output_type": "display_data",
          "data": {
            "text/plain": [
              "<Figure size 640x480 with 1 Axes>"
            ],
            "image/png": "[encoded data removed]"
          },
          "metadata": {}
        }
      ],
      "source": [
        "plt.plot(history.history['loss'], label='Train Loss')\n",
        "plt.plot(history.history['val_loss'], label='Validation Loss')\n",
        "plt.xlabel('Epochs')\n",
        "plt.ylabel('Loss')\n",
        "plt.legend()\n",
        "plt.show()"
      ]
    },
    {
      "cell_type": "code",
      "execution_count": 71,
      "metadata": {
        "colab": {
          "base_uri": "https://localhost:8080/",
          "height": 466
        },
        "id": "Lz6-zMzYmddx",
        "outputId": "0592f54c-ca13-46c5-801a-2a320ac745d9"
      },
      "outputs": [
        {
          "output_type": "stream",
          "name": "stdout",
          "text": [
            "18/18 [==============================] - 0s 6ms/step\n"
          ]
        },
        {
          "output_type": "display_data",
          "data": {
            "text/plain": [
              "<Figure size 640x480 with 1 Axes>"
            ],
            "image/png": "[encoded data removed]"
          },
          "metadata": {}
        }
      ],
      "source": [
        "# Load the best model\n",
        "best_model = Model(inputs=inputs, outputs=outputs)\n",
        "best_model.load_weights('best_model.h5')\n",
        "\n",
        "# Test the best model on unseen data\n",
        "predicted = best_model.predict(X_test)\n",
        "predicted = [elem[0] for elem in predicted]\n",
        "predicted = scaler.inverse_transform(predicted)\n",
        "y_test = scaler.inverse_transform(y_test)\n",
        "\n",
        "# Plot the predicted results and actual values\n",
        "plt.plot(y_test, label='Actual')\n",
        "plt.plot(predicted, label='Predicted')\n",
        "plt.xlabel('Date')\n",
        "plt.ylabel('Peak Load')\n",
        "plt.legend()\n",
        "plt.show()"
      ]
    },
    {
      "cell_type": "code",
      "execution_count": 72,
      "metadata": {
        "colab": {
          "base_uri": "https://localhost:8080/",
          "height": 489
        },
        "id": "KZwLiWhSmiL5",
        "outputId": "316e9779-bb85-4ff7-9036-58731da44082"
      },
      "outputs": [
        {
          "output_type": "execute_result",
          "data": {
            "text/plain": [
              "Text(0.5, 1.0, 'Data vs Time')"
            ]
          },
          "metadata": {},
          "execution_count": 72
        },
        {
          "output_type": "display_data",
          "data": {
            "text/plain": [
              "<Figure size 640x480 with 1 Axes>"
            ],
            "image/png": "[encoded data removed]"
          },
          "metadata": {}
        }
      ],
      "source": [
        "plt.plot(data['ds'], data['y'], marker='o', linestyle='-')\n",
        "\n",
        "# Set labels and title\n",
        "plt.xlabel('Date')\n",
        "plt.ylabel('Peak Load')\n",
        "plt.title('Data vs Time')"
      ]
    },
    {
      "cell_type": "code",
      "execution_count": 73,
      "metadata": {
        "colab": {
          "base_uri": "https://localhost:8080/",
          "height": 206
        },
        "id": "-tzO0kt2_gOE",
        "outputId": "a803ac5c-98f8-402a-e08e-854828f18ce2"
      },
      "outputs": [
        {
          "output_type": "execute_result",
          "data": {
            "text/plain": [
              "           y         ds\n",
              "2611  340.23 2023-02-24\n",
              "2612  375.12 2023-02-25\n",
              "2613  369.38 2023-02-26\n",
              "2614  369.17 2023-02-27\n",
              "2615  358.01 2023-02-28"
            ],
            "text/html": [
              "\n",
              "  <div id=\"df-80f7a3af-4a48-47a1-88bb-c3d0dfeb1993\" class=\"colab-df-container\">\n",
              "    <div>\n",
              "<style scoped>\n",
              "    .dataframe tbody tr th:only-of-type {\n",
              "        vertical-align: middle;\n",
              "    }\n",
              "\n",
              "    .dataframe tbody tr th {\n",
              "        vertical-align: top;\n",
              "    }\n",
              "\n",
              "    .dataframe thead th {\n",
              "        text-align: right;\n",
              "    }\n",
              "</style>\n",
              "<table border=\"1\" class=\"dataframe\">\n",
              "  <thead>\n",
              "    <tr style=\"text-align: right;\">\n",
              "      <th></th>\n",
              "      <th>y</th>\n",
              "      <th>ds</th>\n",
              "    </tr>\n",
              "  </thead>\n",
              "  <tbody>\n",
              "    <tr>\n",
              "      <th>2611</th>\n",
              "      <td>340.23</td>\n",
              "      <td>2023-02-24</td>\n",
              "    </tr>\n",
              "    <tr>\n",
              "      <th>2612</th>\n",
              "      <td>375.12</td>\n",
              "      <td>2023-02-25</td>\n",
              "    </tr>\n",
              "    <tr>\n",
              "      <th>2613</th>\n",
              "      <td>369.38</td>\n",
              "      <td>2023-02-26</td>\n",
              "    </tr>\n",
              "    <tr>\n",
              "      <th>2614</th>\n",
              "      <td>369.17</td>\n",
              "      <td>2023-02-27</td>\n",
              "    </tr>\n",
              "    <tr>\n",
              "      <th>2615</th>\n",
              "      <td>358.01</td>\n",
              "      <td>2023-02-28</td>\n",
              "    </tr>\n",
              "  </tbody>\n",
              "</table>\n",
              "</div>\n",
              "    <div class=\"colab-df-buttons\">\n",
              "\n",
              "  <div class=\"colab-df-container\">\n",
              "    <button class=\"colab-df-convert\" onclick=\"convertToInteractive('df-80f7a3af-4a48-47a1-88bb-c3d0dfeb1993')\"\n",
              "            title=\"Convert this dataframe to an interactive table.\"\n",
              "            style=\"display:none;\">\n",
              "\n",
              "  <svg xmlns=\"http://www.w3.org/2000/svg\" height=\"24px\" viewBox=\"0 -960 960 960\">\n",
              "    <path d=\"M120-120v-720h720v720H120Zm60-500h600v-160H180v160Zm220 220h160v-160H400v160Zm0 220h160v-160H400v160ZM180-400h160v-160H180v160Zm440 0h160v-160H620v160ZM180-180h160v-160H180v160Zm440 0h160v-160H620v160Z\"/>\n",
              "  </svg>\n",
              "    </button>\n",
              "\n",
              "  <style>\n",
              "    .colab-df-container {\n",
              "      display:flex;\n",
              "      gap: 12px;\n",
              "    }\n",
              "\n",
              "    .colab-df-convert {\n",
              "      background-color: #E8F0FE;\n",
              "      border: none;\n",
              "      border-radius: 50%;\n",
              "      cursor: pointer;\n",
              "      display: none;\n",
              "      fill: #1967D2;\n",
              "      height: 32px;\n",
              "      padding: 0 0 0 0;\n",
              "      width: 32px;\n",
              "    }\n",
              "\n",
              "    .colab-df-convert:hover {\n",
              "      background-color: #E2EBFA;\n",
              "      box-shadow: 0px 1px 2px rgba(60, 64, 67, 0.3), 0px 1px 3px 1px rgba(60, 64, 67, 0.15);\n",
              "      fill: #174EA6;\n",
              "    }\n",
              "\n",
              "    .colab-df-buttons div {\n",
              "      margin-bottom: 4px;\n",
              "    }\n",
              "\n",
              "    [theme=dark] .colab-df-convert {\n",
              "      background-color: #3B4455;\n",
              "      fill: #D2E3FC;\n",
              "    }\n",
              "\n",
              "    [theme=dark] .colab-df-convert:hover {\n",
              "      background-color: #434B5C;\n",
              "      box-shadow: 0px 1px 3px 1px rgba(0, 0, 0, 0.15);\n",
              "      filter: drop-shadow(0px 1px 2px rgba(0, 0, 0, 0.3));\n",
              "      fill: #FFFFFF;\n",
              "    }\n",
              "  </style>\n",
              "\n",
              "    <script>\n",
              "      const buttonEl =\n",
              "        document.querySelector('#df-80f7a3af-4a48-47a1-88bb-c3d0dfeb1993 button.colab-df-convert');\n",
              "      buttonEl.style.display =\n",
              "        google.colab.kernel.accessAllowed ? 'block' : 'none';\n",
              "\n",
              "      async function convertToInteractive(key) {\n",
              "        const element = document.querySelector('#df-80f7a3af-4a48-47a1-88bb-c3d0dfeb1993');\n",
              "        const dataTable =\n",
              "          await google.colab.kernel.invokeFunction('convertToInteractive',\n",
              "                                                    [key], {});\n",
              "        if (!dataTable) return;\n",
              "\n",
              "        const docLinkHtml = 'Like what you see? Visit the ' +\n",
              "          '<a target=\"_blank\" href=https://colab.research.google.com/notebooks/data_table.ipynb>data table notebook</a>'\n",
              "          + ' to learn more about interactive tables.';\n",
              "        element.innerHTML = '';\n",
              "        dataTable['output_type'] = 'display_data';\n",
              "        await google.colab.output.renderOutput(dataTable, element);\n",
              "        const docLink = document.createElement('div');\n",
              "        docLink.innerHTML = docLinkHtml;\n",
              "        element.appendChild(docLink);\n",
              "      }\n",
              "    </script>\n",
              "  </div>\n",
              "\n",
              "\n",
              "<div id=\"df-d58655ad-f8ad-4141-b9fb-2ca91b2eefe0\">\n",
              "  <button class=\"colab-df-quickchart\" onclick=\"quickchart('df-d58655ad-f8ad-4141-b9fb-2ca91b2eefe0')\"\n",
              "            title=\"Suggest charts\"\n",
              "            style=\"display:none;\">\n",
              "\n",
              "<svg xmlns=\"http://www.w3.org/2000/svg\" height=\"24px\"viewBox=\"0 0 24 24\"\n",
              "     width=\"24px\">\n",
              "    <g>\n",
              "        <path d=\"M19 3H5c-1.1 0-2 .9-2 2v14c0 1.1.9 2 2 2h14c1.1 0 2-.9 2-2V5c0-1.1-.9-2-2-2zM9 17H7v-7h2v7zm4 0h-2V7h2v10zm4 0h-2v-4h2v4z\"/>\n",
              "    </g>\n",
              "</svg>\n",
              "  </button>\n",
              "\n",
              "<style>\n",
              "  .colab-df-quickchart {\n",
              "      --bg-color: #E8F0FE;\n",
              "      --fill-color: #1967D2;\n",
              "      --hover-bg-color: #E2EBFA;\n",
              "      --hover-fill-color: #174EA6;\n",
              "      --disabled-fill-color: #AAA;\n",
              "      --disabled-bg-color: #DDD;\n",
              "  }\n",
              "\n",
              "  [theme=dark] .colab-df-quickchart {\n",
              "      --bg-color: #3B4455;\n",
              "      --fill-color: #D2E3FC;\n",
              "      --hover-bg-color: #434B5C;\n",
              "      --hover-fill-color: #FFFFFF;\n",
              "      --disabled-bg-color: #3B4455;\n",
              "      --disabled-fill-color: #666;\n",
              "  }\n",
              "\n",
              "  .colab-df-quickchart {\n",
              "    background-color: var(--bg-color);\n",
              "    border: none;\n",
              "    border-radius: 50%;\n",
              "    cursor: pointer;\n",
              "    display: none;\n",
              "    fill: var(--fill-color);\n",
              "    height: 32px;\n",
              "    padding: 0;\n",
              "    width: 32px;\n",
              "  }\n",
              "\n",
              "  .colab-df-quickchart:hover {\n",
              "    background-color: var(--hover-bg-color);\n",
              "    box-shadow: 0 1px 2px rgba(60, 64, 67, 0.3), 0 1px 3px 1px rgba(60, 64, 67, 0.15);\n",
              "    fill: var(--button-hover-fill-color);\n",
              "  }\n",
              "\n",
              "  .colab-df-quickchart-complete:disabled,\n",
              "  .colab-df-quickchart-complete:disabled:hover {\n",
              "    background-color: var(--disabled-bg-color);\n",
              "    fill: var(--disabled-fill-color);\n",
              "    box-shadow: none;\n",
              "  }\n",
              "\n",
              "  .colab-df-spinner {\n",
              "    border: 2px solid var(--fill-color);\n",
              "    border-color: transparent;\n",
              "    border-bottom-color: var(--fill-color);\n",
              "    animation:\n",
              "      spin 1s steps(1) infinite;\n",
              "  }\n",
              "\n",
              "  @keyframes spin {\n",
              "    0% {\n",
              "      border-color: transparent;\n",
              "      border-bottom-color: var(--fill-color);\n",
              "      border-left-color: var(--fill-color);\n",
              "    }\n",
              "    20% {\n",
              "      border-color: transparent;\n",
              "      border-left-color: var(--fill-color);\n",
              "      border-top-color: var(--fill-color);\n",
              "    }\n",
              "    30% {\n",
              "      border-color: transparent;\n",
              "      border-left-color: var(--fill-color);\n",
              "      border-top-color: var(--fill-color);\n",
              "      border-right-color: var(--fill-color);\n",
              "    }\n",
              "    40% {\n",
              "      border-color: transparent;\n",
              "      border-right-color: var(--fill-color);\n",
              "      border-top-color: var(--fill-color);\n",
              "    }\n",
              "    60% {\n",
              "      border-color: transparent;\n",
              "      border-right-color: var(--fill-color);\n",
              "    }\n",
              "    80% {\n",
              "      border-color: transparent;\n",
              "      border-right-color: var(--fill-color);\n",
              "      border-bottom-color: var(--fill-color);\n",
              "    }\n",
              "    90% {\n",
              "      border-color: transparent;\n",
              "      border-bottom-color: var(--fill-color);\n",
              "    }\n",
              "  }\n",
              "</style>\n",
              "\n",
              "  <script>\n",
              "    async function quickchart(key) {\n",
              "      const quickchartButtonEl =\n",
              "        document.querySelector('#' + key + ' button');\n",
              "      quickchartButtonEl.disabled = true;  // To prevent multiple clicks.\n",
              "      quickchartButtonEl.classList.add('colab-df-spinner');\n",
              "      try {\n",
              "        const charts = await google.colab.kernel.invokeFunction(\n",
              "            'suggestCharts', [key], {});\n",
              "      } catch (error) {\n",
              "        console.error('Error during call to suggestCharts:', error);\n",
              "      }\n",
              "      quickchartButtonEl.classList.remove('colab-df-spinner');\n",
              "      quickchartButtonEl.classList.add('colab-df-quickchart-complete');\n",
              "    }\n",
              "    (() => {\n",
              "      let quickchartButtonEl =\n",
              "        document.querySelector('#df-d58655ad-f8ad-4141-b9fb-2ca91b2eefe0 button');\n",
              "      quickchartButtonEl.style.display =\n",
              "        google.colab.kernel.accessAllowed ? 'block' : 'none';\n",
              "    })();\n",
              "  </script>\n",
              "</div>\n",
              "    </div>\n",
              "  </div>\n"
            ],
            "application/vnd.google.colaboratory.intrinsic+json": {
              "type": "dataframe",
              "summary": "{\n  \"name\": \"data\",\n  \"rows\": 5,\n  \"fields\": [\n    {\n      \"column\": \"y\",\n      \"properties\": {\n        \"dtype\": \"number\",\n        \"std\": 13.84856562969609,\n        \"min\": 340.23,\n        \"max\": 375.12,\n        \"num_unique_values\": 5,\n        \"samples\": [\n          375.12,\n          358.01,\n          369.38\n        ],\n        \"semantic_type\": \"\",\n        \"description\": \"\"\n      }\n    },\n    {\n      \"column\": \"ds\",\n      \"properties\": {\n        \"dtype\": \"date\",\n        \"min\": \"2023-02-24 00:00:00\",\n        \"max\": \"2023-02-28 00:00:00\",\n        \"num_unique_values\": 5,\n        \"samples\": [\n          \"2023-02-25 00:00:00\",\n          \"2023-02-28 00:00:00\",\n          \"2023-02-26 00:00:00\"\n        ],\n        \"semantic_type\": \"\",\n        \"description\": \"\"\n      }\n    }\n  ]\n}"
            }
          },
          "metadata": {},
          "execution_count": 73
        }
      ],
      "source": [
        "data.tail()"
      ]
    },
    {
      "cell_type": "code",
      "execution_count": 74,
      "metadata": {
        "colab": {
          "base_uri": "https://localhost:8080/"
        },
        "id": "Xa9ilhGg_mMl",
        "outputId": "b12ea118-7aa6-4500-9634-27858dfb9f92"
      },
      "outputs": [
        {
          "output_type": "stream",
          "name": "stdout",
          "text": [
            "64/64 [==============================] - 0s 6ms/step\n",
            "18/18 [==============================] - 0s 6ms/step\n"
          ]
        }
      ],
      "source": [
        "from sklearn.metrics import mean_absolute_error, r2_score\n",
        "import numpy as np\n",
        "\n",
        "# Making predictions\n",
        "y_train_pred = best_model.predict(X_train)\n",
        "y_test_pred = best_model.predict(X_test)\n",
        "\n",
        "# print(\"Y train\",y_train)\n",
        "# print(\"Y test\",y_test)\n",
        "# print(\"Y train pred\",y_train_pred)\n",
        "# print(\"Y test pred\",y_test_pred)\n",
        "# y_test = scaler.transform(y_test)\n",
        "y_test_pred = [elem[0] for elem in y_test_pred]\n",
        "y_test_pred = scaler.inverse_transform(y_test_pred)\n",
        "\n",
        "\n",
        "# # print(y_test)\n",
        "# Calculate MAE\n"
      ]
    },
    {
      "cell_type": "code",
      "execution_count": 75,
      "metadata": {
        "colab": {
          "base_uri": "https://localhost:8080/"
        },
        "id": "elpgRXYttoBS",
        "outputId": "3eef0b0b-b1dc-426a-e7cd-464d87a93d98"
      },
      "outputs": [
        {
          "output_type": "stream",
          "name": "stdout",
          "text": [
            "(556, 1)\n"
          ]
        }
      ],
      "source": [
        "\n",
        "print(y_test.shape)"
      ]
    },
    {
      "cell_type": "code",
      "execution_count": 76,
      "metadata": {
        "colab": {
          "base_uri": "https://localhost:8080/"
        },
        "id": "687auwbBuI0_",
        "outputId": "58aae8b1-3b81-4811-dbf0-42697a19397c"
      },
      "outputs": [
        {
          "output_type": "execute_result",
          "data": {
            "text/plain": [
              "(556, 1)"
            ]
          },
          "metadata": {},
          "execution_count": 76
        }
      ],
      "source": [
        "y_test_pred = y_test_pred[:, 0].reshape(-1, 1)\n",
        "y_train_pred = y_train_pred[:, 0].reshape(-1, 1)\n",
        "y_test_pred.shape"
      ]
    },
    {
      "cell_type": "code",
      "execution_count": 77,
      "metadata": {
        "colab": {
          "base_uri": "https://localhost:8080/"
        },
        "id": "WFd37tETtcgP",
        "outputId": "31d8e64b-3ef3-4956-82d2-06dd90836b8f"
      },
      "outputs": [
        {
          "output_type": "stream",
          "name": "stderr",
          "text": [
            "<ipython-input-77-be8b0df5a208>:6: RuntimeWarning: divide by zero encountered in divide\n",
            "  return np.mean(np.abs((y_true - y_pred) / y_true)) * 100\n"
          ]
        }
      ],
      "source": [
        "train_mae = mean_absolute_error(y_train, y_train_pred)\n",
        "test_mae = mean_absolute_error(y_test, y_test_pred)\n",
        "\n",
        "# Calculate MAPE\n",
        "def mean_absolute_percentage_error(y_true, y_pred):\n",
        "    return np.mean(np.abs((y_true - y_pred) / y_true)) * 100\n",
        "\n",
        "train_mape = mean_absolute_percentage_error(y_train, y_train_pred)\n",
        "test_mape = mean_absolute_percentage_error(y_test, y_test_pred)\n",
        "\n",
        "# Calculate R^2\n",
        "train_r2 = r2_score(y_train, y_train_pred)\n",
        "test_r2 = r2_score(y_test, y_test_pred)\n"
      ]
    },
    {
      "cell_type": "code",
      "execution_count": 78,
      "metadata": {
        "colab": {
          "base_uri": "https://localhost:8080/"
        },
        "id": "C_M8_vIlElwh",
        "outputId": "5986a95f-0eb8-4ce5-f6e0-0102bf208933"
      },
      "outputs": [
        {
          "output_type": "stream",
          "name": "stdout",
          "text": [
            "Test MAE: 18.97319996403603\n",
            "Test MAPE: 5.614746843752337\n",
            "Test R^2: 0.8068256613907835\n"
          ]
        }
      ],
      "source": [
        "print(\"Test MAE:\", test_mae)\n",
        "print(\"Test MAPE:\", test_mape)\n",
        "print(\"Test R^2:\", test_r2)"
      ]
    },
    {
      "cell_type": "code",
      "execution_count": 79,
      "metadata": {
        "colab": {
          "base_uri": "https://localhost:8080/"
        },
        "id": "J1Avg_l6-ROj",
        "outputId": "1ce7cd5f-db73-406f-d827-626fd8fc8d8f"
      },
      "outputs": [
        {
          "output_type": "stream",
          "name": "stdout",
          "text": [
            "23/23 [==============================] - 0s 6ms/step\n"
          ]
        }
      ],
      "source": [
        "y_forecast = best_model.predict(X_forecast)\n",
        "y_forecast = y_test_pred = [elem[0] for elem in y_forecast]"
      ]
    },
    {
      "cell_type": "code",
      "source": [
        "y_forecast = scaler.inverse_transform(y_forecast)\n",
        "y_forecast = y_forecast[:, 0].reshape(-1, 1)"
      ],
      "metadata": {
        "id": "UHJrhpb4Ui1j"
      },
      "execution_count": 80,
      "outputs": []
    },
    {
      "cell_type": "code",
      "source": [
        "y_forecast.shape\n"
      ],
      "metadata": {
        "colab": {
          "base_uri": "https://localhost:8080/"
        },
        "id": "SAD8y5SRYTMW",
        "outputId": "3deb41d8-2578-449a-b216-8138c6e6b8b9"
      },
      "execution_count": 81,
      "outputs": [
        {
          "output_type": "execute_result",
          "data": {
            "text/plain": [
              "(712, 1)"
            ]
          },
          "metadata": {},
          "execution_count": 81
        }
      ]
    },
    {
      "cell_type": "code",
      "source": [
        "import matplotlib.pyplot as plt\n",
        "import pandas as pd\n",
        "\n",
        "y_forecast = y_forecast.flatten()\n",
        "\n",
        "dates = pd.date_range(start='2023-03-01', periods=len(y_forecast), freq='D')\n",
        "\n",
        "forecast_df = pd.DataFrame({'ds': dates, 'y': y_forecast})\n",
        "\n",
        "plt.figure(figsize=(10, 6))\n",
        "\n",
        "plt.plot(data['ds'], data['y'], label='Actual', color='green')\n",
        "\n",
        "plt.plot(forecast_df['ds'], forecast_df['y'], label='Forecast', linestyle='--', color='red')\n",
        "\n",
        "plt.xlabel('Date', fontsize=14)\n",
        "plt.ylabel('Value', fontsize=14)\n",
        "plt.title('Actual vs Forecasted', fontsize=16)\n",
        "\n",
        "plt.grid(True)\n",
        "\n",
        "plt.legend(fontsize=12)\n",
        "\n",
        "# Rotate x-axis labels for better readability\n",
        "plt.xticks(rotation=45)\n",
        "\n",
        "# Show plot\n",
        "plt.tight_layout()  # Adjust layout\n",
        "plt.show()\n",
        "\n"
      ],
      "metadata": {
        "colab": {
          "base_uri": "https://localhost:8080/",
          "height": 607
        },
        "id": "F38rdzNhUtBK",
        "outputId": "ab2cfba8-73c2-4338-b5f9-65e655792d35"
      },
      "execution_count": 82,
      "outputs": [
        {
          "output_type": "display_data",
          "data": {
            "text/plain": [
              "<Figure size 1000x600 with 1 Axes>"
            ],
            "image/png": "[encoded data removed]"
          },
          "metadata": {}
        }
      ]
    },
    {
      "cell_type": "code",
      "source": [],
      "metadata": {
        "id": "DNDb1sh5XE0C"
      },
      "execution_count": 82,
      "outputs": []
    }
  ],
  "metadata": {
    "accelerator": "GPU",
    "colab": {
      "gpuType": "T4",
      "provenance": []
    },
    "kernelspec": {
      "display_name": "Python 3",
      "name": "python3"
    },
    "language_info": {
      "name": "python"
    }
  },
  "nbformat": 4,
  "nbformat_minor": 0
}