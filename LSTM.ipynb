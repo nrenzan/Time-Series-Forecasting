{
  "cells": [
    {
      "cell_type": "markdown",
      "metadata": {
        "id": "6Cg2AbCWLVCB"
      },
      "source": []
    },
    {
      "cell_type": "code",
      "execution_count": 1,
      "metadata": {
        "colab": {
          "base_uri": "https://localhost:8080/"
        },
        "id": "WEoozyxcLTH-",
        "outputId": "e9a7b656-4977-460d-b4f7-a5c4ec3aeb32"
      },
      "outputs": [
        {
          "output_type": "stream",
          "name": "stdout",
          "text": [
            "Collecting attention\n",
            "  Downloading attention-5.0.0-py3-none-any.whl (9.0 kB)\n",
            "Requirement already satisfied: numpy>=1.18.1 in /usr/local/lib/python3.10/dist-packages (from attention) (1.25.2)\n",
            "Requirement already satisfied: tensorflow>=2.1 in /usr/local/lib/python3.10/dist-packages (from attention) (2.15.0)\n",
            "Requirement already satisfied: absl-py>=1.0.0 in /usr/local/lib/python3.10/dist-packages (from tensorflow>=2.1->attention) (1.4.0)\n",
            "Requirement already satisfied: astunparse>=1.6.0 in /usr/local/lib/python3.10/dist-packages (from tensorflow>=2.1->attention) (1.6.3)\n",
            "Requirement already satisfied: flatbuffers>=23.5.26 in /usr/local/lib/python3.10/dist-packages (from tensorflow>=2.1->attention) (24.3.25)\n",
            "Requirement already satisfied: gast!=0.5.0,!=0.5.1,!=0.5.2,>=0.2.1 in /usr/local/lib/python3.10/dist-packages (from tensorflow>=2.1->attention) (0.5.4)\n",
            "Requirement already satisfied: google-pasta>=0.1.1 in /usr/local/lib/python3.10/dist-packages (from tensorflow>=2.1->attention) (0.2.0)\n",
            "Requirement already satisfied: h5py>=2.9.0 in /usr/local/lib/python3.10/dist-packages (from tensorflow>=2.1->attention) (3.9.0)\n",
            "Requirement already satisfied: libclang>=13.0.0 in /usr/local/lib/python3.10/dist-packages (from tensorflow>=2.1->attention) (18.1.1)\n",
            "Requirement already satisfied: ml-dtypes~=0.2.0 in /usr/local/lib/python3.10/dist-packages (from tensorflow>=2.1->attention) (0.2.0)\n",
            "Requirement already satisfied: opt-einsum>=2.3.2 in /usr/local/lib/python3.10/dist-packages (from tensorflow>=2.1->attention) (3.3.0)\n",
            "Requirement already satisfied: packaging in /usr/local/lib/python3.10/dist-packages (from tensorflow>=2.1->attention) (24.0)\n",
            "Requirement already satisfied: protobuf!=4.21.0,!=4.21.1,!=4.21.2,!=4.21.3,!=4.21.4,!=4.21.5,<5.0.0dev,>=3.20.3 in /usr/local/lib/python3.10/dist-packages (from tensorflow>=2.1->attention) (3.20.3)\n",
            "Requirement already satisfied: setuptools in /usr/local/lib/python3.10/dist-packages (from tensorflow>=2.1->attention) (67.7.2)\n",
            "Requirement already satisfied: six>=1.12.0 in /usr/local/lib/python3.10/dist-packages (from tensorflow>=2.1->attention) (1.16.0)\n",
            "Requirement already satisfied: termcolor>=1.1.0 in /usr/local/lib/python3.10/dist-packages (from tensorflow>=2.1->attention) (2.4.0)\n",
            "Requirement already satisfied: typing-extensions>=3.6.6 in /usr/local/lib/python3.10/dist-packages (from tensorflow>=2.1->attention) (4.10.0)\n",
            "Requirement already satisfied: wrapt<1.15,>=1.11.0 in /usr/local/lib/python3.10/dist-packages (from tensorflow>=2.1->attention) (1.14.1)\n",
            "Requirement already satisfied: tensorflow-io-gcs-filesystem>=0.23.1 in /usr/local/lib/python3.10/dist-packages (from tensorflow>=2.1->attention) (0.36.0)\n",
            "Requirement already satisfied: grpcio<2.0,>=1.24.3 in /usr/local/lib/python3.10/dist-packages (from tensorflow>=2.1->attention) (1.62.1)\n",
            "Requirement already satisfied: tensorboard<2.16,>=2.15 in /usr/local/lib/python3.10/dist-packages (from tensorflow>=2.1->attention) (2.15.2)\n",
            "Requirement already satisfied: tensorflow-estimator<2.16,>=2.15.0 in /usr/local/lib/python3.10/dist-packages (from tensorflow>=2.1->attention) (2.15.0)\n",
            "Requirement already satisfied: keras<2.16,>=2.15.0 in /usr/local/lib/python3.10/dist-packages (from tensorflow>=2.1->attention) (2.15.0)\n",
            "Requirement already satisfied: wheel<1.0,>=0.23.0 in /usr/local/lib/python3.10/dist-packages (from astunparse>=1.6.0->tensorflow>=2.1->attention) (0.43.0)\n",
            "Requirement already satisfied: google-auth<3,>=1.6.3 in /usr/local/lib/python3.10/dist-packages (from tensorboard<2.16,>=2.15->tensorflow>=2.1->attention) (2.27.0)\n",
            "Requirement already satisfied: google-auth-oauthlib<2,>=0.5 in /usr/local/lib/python3.10/dist-packages (from tensorboard<2.16,>=2.15->tensorflow>=2.1->attention) (1.2.0)\n",
            "Requirement already satisfied: markdown>=2.6.8 in /usr/local/lib/python3.10/dist-packages (from tensorboard<2.16,>=2.15->tensorflow>=2.1->attention) (3.6)\n",
            "Requirement already satisfied: requests<3,>=2.21.0 in /usr/local/lib/python3.10/dist-packages (from tensorboard<2.16,>=2.15->tensorflow>=2.1->attention) (2.31.0)\n",
            "Requirement already satisfied: tensorboard-data-server<0.8.0,>=0.7.0 in /usr/local/lib/python3.10/dist-packages (from tensorboard<2.16,>=2.15->tensorflow>=2.1->attention) (0.7.2)\n",
            "Requirement already satisfied: werkzeug>=1.0.1 in /usr/local/lib/python3.10/dist-packages (from tensorboard<2.16,>=2.15->tensorflow>=2.1->attention) (3.0.2)\n",
            "Requirement already satisfied: cachetools<6.0,>=2.0.0 in /usr/local/lib/python3.10/dist-packages (from google-auth<3,>=1.6.3->tensorboard<2.16,>=2.15->tensorflow>=2.1->attention) (5.3.3)\n",
            "Requirement already satisfied: pyasn1-modules>=0.2.1 in /usr/local/lib/python3.10/dist-packages (from google-auth<3,>=1.6.3->tensorboard<2.16,>=2.15->tensorflow>=2.1->attention) (0.4.0)\n",
            "Requirement already satisfied: rsa<5,>=3.1.4 in /usr/local/lib/python3.10/dist-packages (from google-auth<3,>=1.6.3->tensorboard<2.16,>=2.15->tensorflow>=2.1->attention) (4.9)\n",
            "Requirement already satisfied: requests-oauthlib>=0.7.0 in /usr/local/lib/python3.10/dist-packages (from google-auth-oauthlib<2,>=0.5->tensorboard<2.16,>=2.15->tensorflow>=2.1->attention) (1.3.1)\n",
            "Requirement already satisfied: charset-normalizer<4,>=2 in /usr/local/lib/python3.10/dist-packages (from requests<3,>=2.21.0->tensorboard<2.16,>=2.15->tensorflow>=2.1->attention) (3.3.2)\n",
            "Requirement already satisfied: idna<4,>=2.5 in /usr/local/lib/python3.10/dist-packages (from requests<3,>=2.21.0->tensorboard<2.16,>=2.15->tensorflow>=2.1->attention) (3.6)\n",
            "Requirement already satisfied: urllib3<3,>=1.21.1 in /usr/local/lib/python3.10/dist-packages (from requests<3,>=2.21.0->tensorboard<2.16,>=2.15->tensorflow>=2.1->attention) (2.0.7)\n",
            "Requirement already satisfied: certifi>=2017.4.17 in /usr/local/lib/python3.10/dist-packages (from requests<3,>=2.21.0->tensorboard<2.16,>=2.15->tensorflow>=2.1->attention) (2024.2.2)\n",
            "Requirement already satisfied: MarkupSafe>=2.1.1 in /usr/local/lib/python3.10/dist-packages (from werkzeug>=1.0.1->tensorboard<2.16,>=2.15->tensorflow>=2.1->attention) (2.1.5)\n",
            "Requirement already satisfied: pyasn1<0.7.0,>=0.4.6 in /usr/local/lib/python3.10/dist-packages (from pyasn1-modules>=0.2.1->google-auth<3,>=1.6.3->tensorboard<2.16,>=2.15->tensorflow>=2.1->attention) (0.6.0)\n",
            "Requirement already satisfied: oauthlib>=3.0.0 in /usr/local/lib/python3.10/dist-packages (from requests-oauthlib>=0.7.0->google-auth-oauthlib<2,>=0.5->tensorboard<2.16,>=2.15->tensorflow>=2.1->attention) (3.2.2)\n",
            "Installing collected packages: attention\n",
            "Successfully installed attention-5.0.0\n"
          ]
        }
      ],
      "source": [
        "pip install attention"
      ]
    },
    {
      "cell_type": "code",
      "execution_count": 2,
      "metadata": {
        "id": "6dBpD8ICd9Hp"
      },
      "outputs": [],
      "source": [
        "import pandas as pd\n",
        "import numpy as np\n",
        "from attention import Attention\n",
        "import matplotlib.pyplot as plt\n",
        "from sklearn.preprocessing import MinMaxScaler\n",
        "from tensorflow.keras.models import Model\n",
        "from tensorflow.keras.layers import LSTM, Dense, Bidirectional, Input\n",
        "from tensorflow.keras.callbacks import EarlyStopping, ModelCheckpoint"
      ]
    },
    {
      "cell_type": "code",
      "source": [
        "\n",
        "data = pd.read_csv('/content/Datasets-kathmandu.csv')\n",
        "scaler = MinMaxScaler(feature_range=(0,1))\n",
        "num_data_points = len(data)\n",
        "date_range = pd.date_range(start='2016-01-01', periods=num_data_points, freq='D')\n",
        "data = data.drop(columns = ['ds'])\n",
        "data = pd.concat([data, pd.DataFrame({'ds': date_range})], axis=1)"
      ],
      "metadata": {
        "id": "X7sd55vb4b8P"
      },
      "execution_count": 4,
      "outputs": []
    },
    {
      "cell_type": "code",
      "execution_count": 5,
      "metadata": {
        "colab": {
          "base_uri": "https://localhost:8080/"
        },
        "id": "XHrCS8L4ftXd",
        "outputId": "8cbdd00c-d388-4218-b612-877193f6f3f5"
      },
      "outputs": [
        {
          "output_type": "execute_result",
          "data": {
            "text/plain": [
              "array([[0.28262424],\n",
              "       [0.2646923 ],\n",
              "       [0.29196114],\n",
              "       ...,\n",
              "       [0.78877635],\n",
              "       [0.76899347],\n",
              "       [0.78141847]])"
            ]
          },
          "metadata": {},
          "execution_count": 5
        }
      ],
      "source": [
        "scaled_data = MinMaxScaler(feature_range=(0,1)).fit_transform(data['y'].values.reshape(-1,1))\n",
        "unscaled_data = MinMaxScaler(feature_range=(0,1)).inverse_transform(scaled_data)\n",
        "scaled_data"
      ]
    },
    {
      "cell_type": "code",
      "execution_count": 6,
      "metadata": {
        "id": "XMzOgzm9gLOT"
      },
      "outputs": [],
      "source": [
        "data['ds'] = pd.to_datetime(data['ds'])\n",
        "train_end_date = '2022-08-01'\n",
        "test_end_date = '2023-04-28'\n",
        "train_data = scaled_data[(data['ds'] > '2019-02-01') & (data['ds'] <= test_end_date)]\n",
        "test_data = scaled_data[(data['ds'] > train_end_date) & (data['ds'] <= test_end_date)]\n",
        "forecast_data = scaled_data[data['ds'] > test_end_date]"
      ]
    },
    {
      "cell_type": "code",
      "source": [
        "data['ds'] = pd.to_datetime(data['ds'])\n",
        "filtered_data = data[data['ds'] > '2023-04-28']\n",
        "filtered_data['y'] += np.random.randint(0, 31, size=len(filtered_data))\n",
        "data.update(filtered_data)"
      ],
      "metadata": {
        "colab": {
          "base_uri": "https://localhost:8080/"
        },
        "id": "fH4OjHVQDsGA",
        "outputId": "5c736ef9-374c-41f9-82e4-1e7afefba0e3"
      },
      "execution_count": 7,
      "outputs": [
        {
          "output_type": "stream",
          "name": "stdout",
          "text": [
            "               y         ds\n",
            "0     191.231263 2016-01-01\n",
            "1     183.040896 2016-01-02\n",
            "2     195.495871 2016-01-03\n",
            "3     193.733857 2016-01-04\n",
            "4     193.534451 2016-01-05\n",
            "...          ...        ...\n",
            "3343  455.714658 2025-02-25\n",
            "3344  442.197738 2025-02-26\n",
            "3345  436.415028 2025-02-27\n",
            "3346  433.379246 2025-02-28\n",
            "3347  439.054336 2025-03-01\n",
            "\n",
            "[3348 rows x 2 columns]\n"
          ]
        },
        {
          "output_type": "stream",
          "name": "stderr",
          "text": [
            "<ipython-input-7-e55b5ad75b06>:12: SettingWithCopyWarning: \n",
            "A value is trying to be set on a copy of a slice from a DataFrame.\n",
            "Try using .loc[row_indexer,col_indexer] = value instead\n",
            "\n",
            "See the caveats in the documentation: https://pandas.pydata.org/pandas-docs/stable/user_guide/indexing.html#returning-a-view-versus-a-copy\n",
            "  filtered_data['y'] += np.random.randint(0, 31, size=len(filtered_data))\n"
          ]
        }
      ]
    },
    {
      "cell_type": "code",
      "execution_count": 8,
      "metadata": {
        "colab": {
          "base_uri": "https://localhost:8080/"
        },
        "id": "72NCZy3kgubz",
        "outputId": "ee75d2f4-95f8-4e9a-c252-b2bedb9aee8a"
      },
      "outputs": [
        {
          "output_type": "stream",
          "name": "stdout",
          "text": [
            "(1467, 80, 1)\n",
            "(1467, 1)\n",
            "(190, 80, 1)\n",
            "(190, 1)\n"
          ]
        }
      ],
      "source": [
        "# def create_sequences(data, seq_length):\n",
        "#     X = []\n",
        "#     y = []\n",
        "#     for i in range(len(data) - seq_length):\n",
        "#         X.append(data[i:i+seq_length])\n",
        "#         y.append(data[i+seq_length])\n",
        "#     return np.array(X), np.array(y)\n",
        "\n",
        "# sequence_length = 80\n",
        "# X_train, y_train = create_sequences(train_data, sequence_length)\n",
        "# X_test, y_test = create_sequences(test_data, sequence_length)\n",
        "# X_forecast, y_forecast = create_sequences(forecast_data, sequence_length)\n",
        "\n",
        "# # check the shape of the data\n",
        "# print(X_train.shape)\n",
        "# print(y_train.shape)\n",
        "# print(X_test.shape)\n",
        "# print(y_test.shape)\n",
        "\n",
        "def create_sequences(data, seq_length):\n",
        "    X_seq, y_seq = [], []\n",
        "    for i in range(len(data) - seq_length):\n",
        "        X_seq.append(data[i:i+seq_length])\n",
        "        y_seq.append(data[i+seq_length])\n",
        "    return np.array(X_seq), np.array(y_seq)\n",
        "\n",
        "sequence_length = 80\n",
        "\n",
        "X_train, y_train = create_sequences(train_data, sequence_length)\n",
        "X_test, y_test = create_sequences(test_data, sequence_length)\n",
        "X_forecast, y_forecast = create_sequences(forecast_data, sequence_length)\n",
        "\n",
        "# Display the shape of the data\n",
        "shapes = {'X_train': X_train.shape, 'y_train': y_train.shape, 'X_test': X_test.shape, 'y_test': y_test.shape}\n",
        "for key, value in shapes.items():\n",
        "    print(f\"{key} shape: {value}\")\n"
      ]
    },
    {
      "cell_type": "code",
      "source": [
        "data['ds'] = pd.to_datetime(data['ds'])\n",
        "\n",
        "test_end_date = '2023-02-28'\n",
        "\n",
        "# Split the data based on the defined dates\n",
        "data = data[data['ds'] <= test_end_date]"
      ],
      "metadata": {
        "id": "BGoXC_BJVvW7"
      },
      "execution_count": null,
      "outputs": []
    },
    {
      "cell_type": "code",
      "execution_count": 10,
      "metadata": {
        "id": "pNjrUQJtl_Kz"
      },
      "outputs": [],
      "source": [
        "inputs = Input(shape=(sequence_length, 1))\n",
        "lstm_out = (LSTM(128, return_sequences=True))(inputs)\n",
        "attention_out = Attention(32)(lstm_out)\n",
        "outputs = Dense(1)(attention_out)\n",
        "\n",
        "model = Model(inputs=inputs, outputs=outputs)\n",
        "model.compile(optimizer=\"adam\", loss=\"mean_squared_error\")"
      ]
    },
    {
      "cell_type": "code",
      "execution_count": null,
      "metadata": {
        "colab": {
          "base_uri": "https://localhost:8080/"
        },
        "id": "h9PrBM7kmGgp",
        "outputId": "19699780-3ad5-4bad-fda1-67914fc52a82"
      },
      "outputs": [
        {
          "output_type": "stream",
          "name": "stdout",
          "text": [
            "Epoch 1/100\n",
            "19/19 [==============================] - ETA: 0s - loss: 0.0468\n",
            "Epoch 1: val_loss improved from inf to 0.01029, saving model to best_model.h5\n",
            "19/19 [==============================] - 7s 201ms/step - loss: 0.0468 - val_loss: 0.0103\n",
            "Epoch 2/100\n",
            " 1/19 [>.............................] - ETA: 2s - loss: 0.0058"
          ]
        },
        {
          "output_type": "stream",
          "name": "stderr",
          "text": [
            "/usr/local/lib/python3.10/dist-packages/keras/src/engine/training.py:3103: UserWarning: You are saving your model as an HDF5 file via `model.save()`. This file format is considered legacy. We recommend using instead the native Keras format, e.g. `model.save('my_model.keras')`.\n",
            "  saving_api.save_model(\n"
          ]
        },
        {
          "output_type": "stream",
          "name": "stdout",
          "text": [
            "19/19 [==============================] - ETA: 0s - loss: 0.0045\n",
            "Epoch 2: val_loss improved from 0.01029 to 0.00695, saving model to best_model.h5\n",
            "19/19 [==============================] - 4s 229ms/step - loss: 0.0045 - val_loss: 0.0069\n",
            "Epoch 3/100\n",
            "19/19 [==============================] - ETA: 0s - loss: 0.0030\n",
            "Epoch 3: val_loss improved from 0.00695 to 0.00438, saving model to best_model.h5\n",
            "19/19 [==============================] - 5s 271ms/step - loss: 0.0030 - val_loss: 0.0044\n",
            "Epoch 4/100\n",
            "19/19 [==============================] - ETA: 0s - loss: 0.0025\n",
            "Epoch 4: val_loss improved from 0.00438 to 0.00328, saving model to best_model.h5\n",
            "19/19 [==============================] - 3s 166ms/step - loss: 0.0025 - val_loss: 0.0033\n",
            "Epoch 5/100\n",
            "19/19 [==============================] - ETA: 0s - loss: 0.0021\n",
            "Epoch 5: val_loss improved from 0.00328 to 0.00258, saving model to best_model.h5\n",
            "19/19 [==============================] - 4s 228ms/step - loss: 0.0021 - val_loss: 0.0026\n",
            "Epoch 6/100\n",
            "19/19 [==============================] - ETA: 0s - loss: 0.0018\n",
            "Epoch 6: val_loss improved from 0.00258 to 0.00212, saving model to best_model.h5\n",
            "19/19 [==============================] - 3s 183ms/step - loss: 0.0018 - val_loss: 0.0021\n",
            "Epoch 7/100\n",
            "19/19 [==============================] - ETA: 0s - loss: 0.0015\n",
            "Epoch 7: val_loss improved from 0.00212 to 0.00185, saving model to best_model.h5\n",
            "19/19 [==============================] - 3s 167ms/step - loss: 0.0015 - val_loss: 0.0018\n",
            "Epoch 8/100\n",
            "19/19 [==============================] - ETA: 0s - loss: 0.0015\n",
            "Epoch 8: val_loss improved from 0.00185 to 0.00177, saving model to best_model.h5\n",
            "19/19 [==============================] - 3s 168ms/step - loss: 0.0015 - val_loss: 0.0018\n",
            "Epoch 9/100\n",
            "19/19 [==============================] - ETA: 0s - loss: 0.0015\n",
            "Epoch 9: val_loss did not improve from 0.00177\n",
            "19/19 [==============================] - 4s 232ms/step - loss: 0.0015 - val_loss: 0.0018\n",
            "Epoch 10/100\n",
            "19/19 [==============================] - ETA: 0s - loss: 0.0015\n",
            "Epoch 10: val_loss improved from 0.00177 to 0.00172, saving model to best_model.h5\n",
            "19/19 [==============================] - 3s 166ms/step - loss: 0.0015 - val_loss: 0.0017\n",
            "Epoch 11/100\n",
            "19/19 [==============================] - ETA: 0s - loss: 0.0014\n",
            "Epoch 11: val_loss improved from 0.00172 to 0.00169, saving model to best_model.h5\n",
            "19/19 [==============================] - 3s 170ms/step - loss: 0.0014 - val_loss: 0.0017\n",
            "Epoch 12/100\n",
            "19/19 [==============================] - ETA: 0s - loss: 0.0014\n",
            "Epoch 12: val_loss improved from 0.00169 to 0.00168, saving model to best_model.h5\n",
            "19/19 [==============================] - 4s 204ms/step - loss: 0.0014 - val_loss: 0.0017\n",
            "Epoch 13/100\n",
            "19/19 [==============================] - ETA: 0s - loss: 0.0014\n",
            "Epoch 13: val_loss improved from 0.00168 to 0.00167, saving model to best_model.h5\n",
            "19/19 [==============================] - 4s 190ms/step - loss: 0.0014 - val_loss: 0.0017\n",
            "Epoch 14/100\n",
            "19/19 [==============================] - ETA: 0s - loss: 0.0014\n",
            "Epoch 14: val_loss did not improve from 0.00167\n",
            "19/19 [==============================] - 3s 165ms/step - loss: 0.0014 - val_loss: 0.0017\n",
            "Epoch 15/100\n",
            "19/19 [==============================] - ETA: 0s - loss: 0.0014\n",
            "Epoch 15: val_loss did not improve from 0.00167\n",
            "19/19 [==============================] - 3s 165ms/step - loss: 0.0014 - val_loss: 0.0017\n",
            "Epoch 16/100\n",
            "19/19 [==============================] - ETA: 0s - loss: 0.0014\n",
            "Epoch 16: val_loss did not improve from 0.00167\n",
            "19/19 [==============================] - 4s 228ms/step - loss: 0.0014 - val_loss: 0.0017\n",
            "Epoch 17/100\n",
            "19/19 [==============================] - ETA: 0s - loss: 0.0014\n",
            "Epoch 17: val_loss improved from 0.00167 to 0.00162, saving model to best_model.h5\n",
            "19/19 [==============================] - 3s 173ms/step - loss: 0.0014 - val_loss: 0.0016\n",
            "Epoch 18/100\n",
            "19/19 [==============================] - ETA: 0s - loss: 0.0013\n",
            "Epoch 18: val_loss did not improve from 0.00162\n",
            "19/19 [==============================] - 3s 167ms/step - loss: 0.0013 - val_loss: 0.0017\n",
            "Epoch 19/100\n",
            "19/19 [==============================] - ETA: 0s - loss: 0.0013\n",
            "Epoch 19: val_loss improved from 0.00162 to 0.00161, saving model to best_model.h5\n",
            "19/19 [==============================] - 3s 169ms/step - loss: 0.0013 - val_loss: 0.0016\n",
            "Epoch 20/100\n",
            "19/19 [==============================] - ETA: 0s - loss: 0.0013\n",
            "Epoch 20: val_loss did not improve from 0.00161\n",
            "19/19 [==============================] - 4s 222ms/step - loss: 0.0013 - val_loss: 0.0018\n",
            "Epoch 21/100\n",
            "19/19 [==============================] - ETA: 0s - loss: 0.0013\n",
            "Epoch 21: val_loss did not improve from 0.00161\n",
            "19/19 [==============================] - 3s 164ms/step - loss: 0.0013 - val_loss: 0.0020\n",
            "Epoch 22/100\n",
            "19/19 [==============================] - ETA: 0s - loss: 0.0013\n",
            "Epoch 22: val_loss did not improve from 0.00161\n",
            "19/19 [==============================] - 3s 164ms/step - loss: 0.0013 - val_loss: 0.0016\n",
            "Epoch 23/100\n",
            "19/19 [==============================] - ETA: 0s - loss: 0.0013\n",
            "Epoch 23: val_loss did not improve from 0.00161\n",
            "19/19 [==============================] - 4s 200ms/step - loss: 0.0013 - val_loss: 0.0017\n",
            "Epoch 24/100\n",
            "19/19 [==============================] - ETA: 0s - loss: 0.0013\n",
            "Epoch 24: val_loss improved from 0.00161 to 0.00160, saving model to best_model.h5\n",
            "19/19 [==============================] - 4s 189ms/step - loss: 0.0013 - val_loss: 0.0016\n",
            "Epoch 25/100\n",
            "19/19 [==============================] - ETA: 0s - loss: 0.0013\n",
            "Epoch 25: val_loss improved from 0.00160 to 0.00157, saving model to best_model.h5\n",
            "19/19 [==============================] - 3s 171ms/step - loss: 0.0013 - val_loss: 0.0016\n",
            "Epoch 26/100\n",
            "19/19 [==============================] - ETA: 0s - loss: 0.0013\n",
            "Epoch 26: val_loss did not improve from 0.00157\n",
            "19/19 [==============================] - 3s 167ms/step - loss: 0.0013 - val_loss: 0.0017\n",
            "Epoch 27/100\n",
            "19/19 [==============================] - ETA: 0s - loss: 0.0013\n",
            "Epoch 27: val_loss did not improve from 0.00157\n",
            "19/19 [==============================] - 4s 227ms/step - loss: 0.0013 - val_loss: 0.0016\n",
            "Epoch 28/100\n",
            "19/19 [==============================] - ETA: 0s - loss: 0.0013\n",
            "Epoch 28: val_loss did not improve from 0.00157\n",
            "19/19 [==============================] - 3s 164ms/step - loss: 0.0013 - val_loss: 0.0016\n",
            "Epoch 29/100\n",
            "19/19 [==============================] - ETA: 0s - loss: 0.0013\n",
            "Epoch 29: val_loss did not improve from 0.00157\n",
            "19/19 [==============================] - 3s 163ms/step - loss: 0.0013 - val_loss: 0.0017\n",
            "Epoch 30/100\n",
            "19/19 [==============================] - ETA: 0s - loss: 0.0012\n",
            "Epoch 30: val_loss did not improve from 0.00157\n",
            "19/19 [==============================] - 3s 165ms/step - loss: 0.0012 - val_loss: 0.0021\n",
            "Epoch 31/100\n",
            "19/19 [==============================] - ETA: 0s - loss: 0.0013\n",
            "Epoch 31: val_loss improved from 0.00157 to 0.00154, saving model to best_model.h5\n",
            "19/19 [==============================] - 4s 235ms/step - loss: 0.0013 - val_loss: 0.0015\n",
            "Epoch 32/100\n",
            "19/19 [==============================] - ETA: 0s - loss: 0.0012\n",
            "Epoch 32: val_loss did not improve from 0.00154\n",
            "19/19 [==============================] - 3s 166ms/step - loss: 0.0012 - val_loss: 0.0015\n",
            "Epoch 33/100\n",
            "19/19 [==============================] - ETA: 0s - loss: 0.0012\n",
            "Epoch 33: val_loss did not improve from 0.00154\n",
            "19/19 [==============================] - 3s 167ms/step - loss: 0.0012 - val_loss: 0.0016\n",
            "Epoch 34/100\n",
            "19/19 [==============================] - ETA: 0s - loss: 0.0012\n",
            "Epoch 34: val_loss did not improve from 0.00154\n",
            "19/19 [==============================] - 4s 190ms/step - loss: 0.0012 - val_loss: 0.0017\n",
            "Epoch 35/100\n",
            "19/19 [==============================] - ETA: 0s - loss: 0.0012\n",
            "Epoch 35: val_loss did not improve from 0.00154\n",
            "19/19 [==============================] - 4s 198ms/step - loss: 0.0012 - val_loss: 0.0017\n",
            "Epoch 36/100\n",
            "19/19 [==============================] - ETA: 0s - loss: 0.0012\n",
            "Epoch 36: val_loss did not improve from 0.00154\n",
            "19/19 [==============================] - 3s 161ms/step - loss: 0.0012 - val_loss: 0.0016\n",
            "Epoch 37/100\n",
            "19/19 [==============================] - ETA: 0s - loss: 0.0012\n",
            "Epoch 37: val_loss improved from 0.00154 to 0.00151, saving model to best_model.h5\n",
            "19/19 [==============================] - 3s 163ms/step - loss: 0.0012 - val_loss: 0.0015\n",
            "Epoch 38/100\n",
            "19/19 [==============================] - ETA: 0s - loss: 0.0012\n",
            "Epoch 38: val_loss improved from 0.00151 to 0.00151, saving model to best_model.h5\n",
            "19/19 [==============================] - 4s 217ms/step - loss: 0.0012 - val_loss: 0.0015\n",
            "Epoch 39/100\n",
            "19/19 [==============================] - ETA: 0s - loss: 0.0012\n",
            "Epoch 39: val_loss improved from 0.00151 to 0.00149, saving model to best_model.h5\n",
            "19/19 [==============================] - 3s 172ms/step - loss: 0.0012 - val_loss: 0.0015\n",
            "Epoch 40/100\n",
            "19/19 [==============================] - ETA: 0s - loss: 0.0012\n",
            "Epoch 40: val_loss did not improve from 0.00149\n",
            "19/19 [==============================] - 3s 168ms/step - loss: 0.0012 - val_loss: 0.0017\n",
            "Epoch 41/100\n",
            "19/19 [==============================] - ETA: 0s - loss: 0.0012\n",
            "Epoch 41: val_loss did not improve from 0.00149\n",
            "19/19 [==============================] - 3s 165ms/step - loss: 0.0012 - val_loss: 0.0016\n",
            "Epoch 42/100\n",
            "19/19 [==============================] - ETA: 0s - loss: 0.0012\n",
            "Epoch 42: val_loss improved from 0.00149 to 0.00149, saving model to best_model.h5\n",
            "19/19 [==============================] - 4s 227ms/step - loss: 0.0012 - val_loss: 0.0015\n",
            "Epoch 43/100\n",
            "19/19 [==============================] - ETA: 0s - loss: 0.0012\n",
            "Epoch 43: val_loss did not improve from 0.00149\n",
            "19/19 [==============================] - 3s 165ms/step - loss: 0.0012 - val_loss: 0.0015\n",
            "Epoch 44/100\n",
            "19/19 [==============================] - ETA: 0s - loss: 0.0012\n",
            "Epoch 44: val_loss did not improve from 0.00149\n",
            "19/19 [==============================] - 3s 164ms/step - loss: 0.0012 - val_loss: 0.0016\n",
            "Epoch 45/100\n",
            "19/19 [==============================] - ETA: 0s - loss: 0.0012\n",
            "Epoch 45: val_loss did not improve from 0.00149\n",
            "19/19 [==============================] - 3s 166ms/step - loss: 0.0012 - val_loss: 0.0015\n",
            "Epoch 46/100\n",
            "19/19 [==============================] - ETA: 0s - loss: 0.0012\n",
            "Epoch 46: val_loss improved from 0.00149 to 0.00147, saving model to best_model.h5\n",
            "19/19 [==============================] - 4s 227ms/step - loss: 0.0012 - val_loss: 0.0015\n",
            "Epoch 47/100\n",
            "19/19 [==============================] - ETA: 0s - loss: 0.0012\n",
            "Epoch 47: val_loss did not improve from 0.00147\n",
            "19/19 [==============================] - 3s 164ms/step - loss: 0.0012 - val_loss: 0.0016\n",
            "Epoch 48/100\n",
            "19/19 [==============================] - ETA: 0s - loss: 0.0012\n",
            "Epoch 48: val_loss did not improve from 0.00147\n",
            "19/19 [==============================] - 4s 186ms/step - loss: 0.0012 - val_loss: 0.0015\n",
            "Epoch 49/100\n",
            "19/19 [==============================] - ETA: 0s - loss: 0.0012\n",
            "Epoch 49: val_loss improved from 0.00147 to 0.00146, saving model to best_model.h5\n",
            "19/19 [==============================] - 4s 213ms/step - loss: 0.0012 - val_loss: 0.0015\n",
            "Epoch 50/100\n",
            "19/19 [==============================] - ETA: 0s - loss: 0.0012\n",
            "Epoch 50: val_loss did not improve from 0.00146\n",
            "19/19 [==============================] - 3s 174ms/step - loss: 0.0012 - val_loss: 0.0016\n",
            "Epoch 51/100\n",
            "19/19 [==============================] - ETA: 0s - loss: 0.0011\n",
            "Epoch 51: val_loss did not improve from 0.00146\n",
            "19/19 [==============================] - 3s 163ms/step - loss: 0.0011 - val_loss: 0.0015\n",
            "Epoch 52/100\n",
            "19/19 [==============================] - ETA: 0s - loss: 0.0011\n",
            "Epoch 52: val_loss improved from 0.00146 to 0.00144, saving model to best_model.h5\n",
            "19/19 [==============================] - 3s 165ms/step - loss: 0.0011 - val_loss: 0.0014\n",
            "Epoch 53/100\n",
            "19/19 [==============================] - ETA: 0s - loss: 0.0011\n",
            "Epoch 53: val_loss did not improve from 0.00144\n",
            "19/19 [==============================] - 4s 230ms/step - loss: 0.0011 - val_loss: 0.0014\n",
            "Epoch 54/100\n",
            "19/19 [==============================] - ETA: 0s - loss: 0.0011\n",
            "Epoch 54: val_loss improved from 0.00144 to 0.00144, saving model to best_model.h5\n",
            "19/19 [==============================] - 3s 168ms/step - loss: 0.0011 - val_loss: 0.0014\n",
            "Epoch 55/100\n",
            "19/19 [==============================] - ETA: 0s - loss: 0.0011\n",
            "Epoch 55: val_loss did not improve from 0.00144\n",
            "19/19 [==============================] - 3s 169ms/step - loss: 0.0011 - val_loss: 0.0016\n",
            "Epoch 56/100\n",
            "19/19 [==============================] - ETA: 0s - loss: 0.0011\n",
            "Epoch 56: val_loss did not improve from 0.00144\n",
            "19/19 [==============================] - 3s 165ms/step - loss: 0.0011 - val_loss: 0.0020\n",
            "Epoch 57/100\n",
            "19/19 [==============================] - ETA: 0s - loss: 0.0012\n",
            "Epoch 57: val_loss did not improve from 0.00144\n",
            "19/19 [==============================] - 4s 225ms/step - loss: 0.0012 - val_loss: 0.0014\n",
            "Epoch 58/100\n",
            "19/19 [==============================] - ETA: 0s - loss: 0.0011\n",
            "Epoch 58: val_loss did not improve from 0.00144\n",
            "19/19 [==============================] - 3s 164ms/step - loss: 0.0011 - val_loss: 0.0015\n",
            "Epoch 59/100\n",
            "19/19 [==============================] - ETA: 0s - loss: 0.0011\n",
            "Epoch 59: val_loss did not improve from 0.00144\n",
            "19/19 [==============================] - 3s 164ms/step - loss: 0.0011 - val_loss: 0.0016\n",
            "Epoch 60/100\n",
            "19/19 [==============================] - ETA: 0s - loss: 0.0011\n",
            "Epoch 60: val_loss improved from 0.00144 to 0.00143, saving model to best_model.h5\n",
            "19/19 [==============================] - 4s 234ms/step - loss: 0.0011 - val_loss: 0.0014\n",
            "Epoch 61/100\n",
            "19/19 [==============================] - ETA: 0s - loss: 0.0011\n",
            "Epoch 61: val_loss did not improve from 0.00143\n",
            "19/19 [==============================] - 3s 179ms/step - loss: 0.0011 - val_loss: 0.0015\n",
            "Epoch 62/100\n",
            "19/19 [==============================] - ETA: 0s - loss: 0.0011\n",
            "Epoch 62: val_loss did not improve from 0.00143\n",
            "19/19 [==============================] - 3s 163ms/step - loss: 0.0011 - val_loss: 0.0015\n",
            "Epoch 63/100\n",
            "19/19 [==============================] - ETA: 0s - loss: 0.0011\n",
            "Epoch 63: val_loss did not improve from 0.00143\n",
            "19/19 [==============================] - 3s 168ms/step - loss: 0.0011 - val_loss: 0.0015\n",
            "Epoch 64/100\n",
            "19/19 [==============================] - ETA: 0s - loss: 0.0011\n",
            "Epoch 64: val_loss improved from 0.00143 to 0.00142, saving model to best_model.h5\n",
            "19/19 [==============================] - 4s 227ms/step - loss: 0.0011 - val_loss: 0.0014\n",
            "Epoch 65/100\n",
            "19/19 [==============================] - ETA: 0s - loss: 0.0011\n",
            "Epoch 65: val_loss did not improve from 0.00142\n",
            "19/19 [==============================] - 3s 167ms/step - loss: 0.0011 - val_loss: 0.0017\n",
            "Epoch 66/100\n",
            "19/19 [==============================] - ETA: 0s - loss: 0.0011\n",
            "Epoch 66: val_loss did not improve from 0.00142\n",
            "19/19 [==============================] - 3s 163ms/step - loss: 0.0011 - val_loss: 0.0014\n",
            "Epoch 67/100\n",
            "19/19 [==============================] - ETA: 0s - loss: 0.0011\n",
            "Epoch 67: val_loss did not improve from 0.00142\n",
            "19/19 [==============================] - 3s 164ms/step - loss: 0.0011 - val_loss: 0.0015\n",
            "Epoch 68/100\n",
            "19/19 [==============================] - ETA: 0s - loss: 0.0011\n",
            "Epoch 68: val_loss did not improve from 0.00142\n",
            "19/19 [==============================] - 4s 227ms/step - loss: 0.0011 - val_loss: 0.0015\n",
            "Epoch 69/100\n",
            "19/19 [==============================] - ETA: 0s - loss: 0.0011\n",
            "Epoch 69: val_loss improved from 0.00142 to 0.00140, saving model to best_model.h5\n",
            "19/19 [==============================] - 3s 167ms/step - loss: 0.0011 - val_loss: 0.0014\n",
            "Epoch 70/100\n",
            "19/19 [==============================] - ETA: 0s - loss: 0.0011\n",
            "Epoch 70: val_loss did not improve from 0.00140\n",
            "19/19 [==============================] - 3s 163ms/step - loss: 0.0011 - val_loss: 0.0015\n",
            "Epoch 71/100\n",
            "19/19 [==============================] - ETA: 0s - loss: 0.0011\n",
            "Epoch 71: val_loss did not improve from 0.00140\n",
            "19/19 [==============================] - 3s 179ms/step - loss: 0.0011 - val_loss: 0.0015\n",
            "Epoch 72/100\n",
            "19/19 [==============================] - ETA: 0s - loss: 0.0011\n",
            "Epoch 72: val_loss did not improve from 0.00140\n",
            "19/19 [==============================] - 4s 210ms/step - loss: 0.0011 - val_loss: 0.0014\n",
            "Epoch 73/100\n",
            "19/19 [==============================] - ETA: 0s - loss: 0.0011\n",
            "Epoch 73: val_loss did not improve from 0.00140\n",
            "19/19 [==============================] - 3s 171ms/step - loss: 0.0011 - val_loss: 0.0014\n",
            "Epoch 74/100\n",
            "19/19 [==============================] - ETA: 0s - loss: 0.0011\n",
            "Epoch 74: val_loss did not improve from 0.00140\n",
            "19/19 [==============================] - 3s 170ms/step - loss: 0.0011 - val_loss: 0.0017\n",
            "Epoch 75/100\n",
            "19/19 [==============================] - ETA: 0s - loss: 0.0011\n",
            "Epoch 75: val_loss did not improve from 0.00140\n",
            "19/19 [==============================] - 4s 220ms/step - loss: 0.0011 - val_loss: 0.0016\n",
            "Epoch 76/100\n",
            "19/19 [==============================] - ETA: 0s - loss: 0.0011\n",
            "Epoch 76: val_loss improved from 0.00140 to 0.00139, saving model to best_model.h5\n",
            "19/19 [==============================] - 3s 166ms/step - loss: 0.0011 - val_loss: 0.0014\n",
            "Epoch 77/100\n",
            "19/19 [==============================] - ETA: 0s - loss: 0.0011\n",
            "Epoch 77: val_loss did not improve from 0.00139\n",
            "19/19 [==============================] - 3s 164ms/step - loss: 0.0011 - val_loss: 0.0015\n",
            "Epoch 78/100\n",
            "19/19 [==============================] - ETA: 0s - loss: 0.0010\n",
            "Epoch 78: val_loss improved from 0.00139 to 0.00138, saving model to best_model.h5\n",
            "19/19 [==============================] - 3s 167ms/step - loss: 0.0010 - val_loss: 0.0014\n",
            "Epoch 79/100\n",
            "19/19 [==============================] - ETA: 0s - loss: 0.0011\n",
            "Epoch 79: val_loss improved from 0.00138 to 0.00137, saving model to best_model.h5\n",
            "19/19 [==============================] - 4s 237ms/step - loss: 0.0011 - val_loss: 0.0014\n",
            "Epoch 80/100\n",
            "19/19 [==============================] - ETA: 0s - loss: 0.0011\n",
            "Epoch 80: val_loss did not improve from 0.00137\n",
            "19/19 [==============================] - 3s 164ms/step - loss: 0.0011 - val_loss: 0.0014\n",
            "Epoch 81/100\n",
            "19/19 [==============================] - ETA: 0s - loss: 0.0011\n",
            "Epoch 81: val_loss did not improve from 0.00137\n",
            "19/19 [==============================] - 3s 166ms/step - loss: 0.0011 - val_loss: 0.0015\n",
            "Epoch 82/100\n",
            "19/19 [==============================] - ETA: 0s - loss: 0.0011\n",
            "Epoch 82: val_loss did not improve from 0.00137\n",
            "19/19 [==============================] - 3s 179ms/step - loss: 0.0011 - val_loss: 0.0016\n",
            "Epoch 83/100\n",
            "19/19 [==============================] - ETA: 0s - loss: 0.0011\n",
            "Epoch 83: val_loss improved from 0.00137 to 0.00137, saving model to best_model.h5\n",
            "19/19 [==============================] - 4s 214ms/step - loss: 0.0011 - val_loss: 0.0014\n",
            "Epoch 84/100\n",
            "19/19 [==============================] - ETA: 0s - loss: 0.0010\n",
            "Epoch 84: val_loss did not improve from 0.00137\n",
            "19/19 [==============================] - 3s 165ms/step - loss: 0.0010 - val_loss: 0.0014\n",
            "Epoch 85/100\n",
            "19/19 [==============================] - ETA: 0s - loss: 0.0010\n",
            "Epoch 85: val_loss improved from 0.00137 to 0.00137, saving model to best_model.h5\n",
            "19/19 [==============================] - 3s 168ms/step - loss: 0.0010 - val_loss: 0.0014\n",
            "Epoch 86/100\n",
            "19/19 [==============================] - ETA: 0s - loss: 0.0010\n",
            "Epoch 86: val_loss did not improve from 0.00137\n",
            "19/19 [==============================] - 4s 220ms/step - loss: 0.0010 - val_loss: 0.0014\n",
            "Epoch 87/100\n",
            "19/19 [==============================] - ETA: 0s - loss: 0.0010\n",
            "Epoch 87: val_loss did not improve from 0.00137\n",
            "19/19 [==============================] - 3s 171ms/step - loss: 0.0010 - val_loss: 0.0014\n",
            "Epoch 88/100\n",
            "19/19 [==============================] - ETA: 0s - loss: 0.0011\n",
            "Epoch 88: val_loss did not improve from 0.00137\n",
            "19/19 [==============================] - 3s 167ms/step - loss: 0.0011 - val_loss: 0.0014\n",
            "Epoch 89/100\n",
            "19/19 [==============================] - ETA: 0s - loss: 0.0010\n",
            "Epoch 89: val_loss improved from 0.00137 to 0.00136, saving model to best_model.h5\n",
            "19/19 [==============================] - 3s 167ms/step - loss: 0.0010 - val_loss: 0.0014\n",
            "Epoch 90/100\n"
          ]
        }
      ],
      "source": [
        "early_stopping = EarlyStopping(monitor='val_loss', patience=20, verbose=1, restore_best_weights=True)\n",
        "model_checkpoint = ModelCheckpoint('best_model.h5', monitor='val_loss', save_best_only=True, verbose=1)\n",
        "\n",
        "# Train the model with validation\n",
        "history = model.fit(X_train, y_train, epochs=100, batch_size=80 , validation_data=(X_test, y_test),\n",
        "                    callbacks=[early_stopping, model_checkpoint])"
      ]
    },
    {
      "cell_type": "code",
      "execution_count": null,
      "metadata": {
        "id": "s_tNzsZdmLQP"
      },
      "outputs": [],
      "source": [
        "# Evaluate the model\n",
        "train_loss = model.evaluate(X_train, y_train, verbose=0)\n",
        "test_loss = model.evaluate(X_test, y_test, verbose=0)\n",
        "print(\"Train Loss:\", train_loss)\n",
        "print(\"Test Loss:\", test_loss)"
      ]
    },
    {
      "cell_type": "code",
      "execution_count": null,
      "metadata": {
        "id": "8VLGUhDHmXUX"
      },
      "outputs": [],
      "source": [
        "plt.plot(history.history['loss'], label='Train Loss')\n",
        "plt.plot(history.history['val_loss'], label='Validation Loss')\n",
        "plt.xlabel('Epochs')\n",
        "plt.ylabel('Loss')\n",
        "plt.legend()\n",
        "plt.show()"
      ]
    },
    {
      "cell_type": "code",
      "execution_count": 14,
      "metadata": {
        "colab": {
          "base_uri": "https://localhost:8080/",
          "height": 472
        },
        "id": "Lz6-zMzYmddx",
        "outputId": "fc99269d-fd10-4d3f-951d-02a323fb0f9e"
      },
      "outputs": [
        {
          "metadata": {
            "tags": null
          },
          "name": "stdout",
          "output_type": "stream",
          "text": [
            "6/6 [==============================] - 1s 36ms/step\n"
          ]
        },
        {
          "data": {
            "image/png": "[encoded data removed]",
            "text/plain": [
              "<Figure size 640x480 with 1 Axes>"
            ]
          },
          "metadata": {},
          "output_type": "display_data"
        }
      ],
      "source": [
        "# Load the best model\n",
        "best_model = Model(inputs=inputs, outputs=outputs)\n",
        "best_model.load_weights('best_model.h5')\n",
        "\n",
        "# Test the best model on unseen data\n",
        "predicted = best_model.predict(X_test)\n",
        "predicted = scaler.inverse_transform(predicted)\n",
        "y_test = scaler.inverse_transform(y_test)\n",
        "\n",
        "# Plot the predicted results and actual values\n",
        "plt.plot(y_test, label='Actual')\n",
        "plt.plot(predicted, label='Predicted')\n",
        "plt.xlabel('Date')\n",
        "plt.ylabel('Peak Load')\n",
        "plt.legend()\n",
        "plt.show()"
      ]
    },
    {
      "cell_type": "code",
      "execution_count": 15,
      "metadata": {
        "colab": {
          "base_uri": "https://localhost:8080/"
        },
        "id": "Xa9ilhGg_mMl",
        "outputId": "3163ef9b-4ad6-4096-c927-a178c2f3d022"
      },
      "outputs": [
        {
          "metadata": {
            "tags": null
          },
          "name": "stdout",
          "output_type": "stream",
          "text": [
            "46/46 [==============================] - 2s 37ms/step\n",
            "6/6 [==============================] - 0s 34ms/step\n"
          ]
        }
      ],
      "source": [
        "from sklearn.metrics import mean_absolute_error, r2_score\n",
        "import numpy as np\n",
        "\n",
        "# Making predictions\n",
        "y_train_pred = best_model.predict(X_train)\n",
        "y_test_pred = best_model.predict(X_test)\n",
        "y_test_pred = scaler.inverse_transform(y_test_pred)\n"
      ]
    },
    {
      "cell_type": "code",
      "execution_count": 16,
      "metadata": {
        "colab": {
          "base_uri": "https://localhost:8080/"
        },
        "id": "elpgRXYttoBS",
        "outputId": "b4d954ef-906e-4d7d-a109-66cac1694048"
      },
      "outputs": [
        {
          "metadata": {
            "tags": null
          },
          "name": "stdout",
          "output_type": "stream",
          "text": [
            "(190, 1)\n"
          ]
        }
      ],
      "source": [
        "\n",
        "print(y_test.shape)"
      ]
    },
    {
      "cell_type": "code",
      "execution_count": 17,
      "metadata": {
        "colab": {
          "base_uri": "https://localhost:8080/"
        },
        "id": "687auwbBuI0_",
        "outputId": "616d7e6b-c17d-4ea1-da8f-82aef0c05619"
      },
      "outputs": [
        {
          "data": {
            "text/plain": [
              "(190, 1)"
            ]
          },
          "execution_count": 17,
          "metadata": {},
          "output_type": "execute_result"
        }
      ],
      "source": [
        "y_test_pred = y_test_pred[:, 0].reshape(-1, 1)\n",
        "y_train_pred = y_train_pred[:, 0].reshape(-1, 1)\n",
        "y_test_pred.shape"
      ]
    },
    {
      "cell_type": "code",
      "execution_count": 18,
      "metadata": {
        "id": "WFd37tETtcgP"
      },
      "outputs": [],
      "source": [
        "train_mae = mean_absolute_error(y_train, y_train_pred)\n",
        "test_mae = mean_absolute_error(y_test, y_test_pred)\n",
        "\n",
        "# Calculate MAPE\n",
        "def mean_absolute_percentage_error(y_true, y_pred):\n",
        "    return np.mean(np.abs((y_true - y_pred) / y_true)) * 100\n",
        "\n",
        "train_mape = mean_absolute_percentage_error(y_train, y_train_pred)\n",
        "test_mape = mean_absolute_percentage_error(y_test, y_test_pred)\n",
        "\n",
        "# Calculate R^2\n",
        "train_r2 = r2_score(y_train, y_train_pred)\n",
        "test_r2 = r2_score(y_test, y_test_pred)\n"
      ]
    },
    {
      "cell_type": "code",
      "execution_count": 19,
      "metadata": {
        "colab": {
          "base_uri": "https://localhost:8080/"
        },
        "id": "C_M8_vIlElwh",
        "outputId": "50034e24-accd-4bc6-ddc9-e34f2b598e90"
      },
      "outputs": [
        {
          "metadata": {
            "tags": null
          },
          "name": "stdout",
          "output_type": "stream",
          "text": [
            "Test MAE: 12.303213640946543\n",
            "Test MAPE: 3.324981269233903\n",
            "Test R^2: 0.8810947423545816\n"
          ]
        }
      ],
      "source": [
        "print(\"Test MAE:\", test_mae)\n",
        "print(\"Test MAPE:\", test_mape)\n",
        "print(\"Test R^2:\", test_r2)"
      ]
    },
    {
      "cell_type": "code",
      "source": [
        "X_forecast"
      ],
      "metadata": {
        "colab": {
          "base_uri": "https://localhost:8080/"
        },
        "id": "Do6zQsBpC1Zp",
        "outputId": "c8707655-1521-452d-ec4d-26b67fe61cbc"
      },
      "execution_count": 20,
      "outputs": [
        {
          "data": {
            "text/plain": [
              "array([[[0.60248789],\n",
              "        [0.58257433],\n",
              "        [0.60850145],\n",
              "        ...,\n",
              "        [0.67129166],\n",
              "        [0.65251184],\n",
              "        [0.67972492]],\n",
              "\n",
              "       [[0.58257433],\n",
              "        [0.60850145],\n",
              "        [0.60392062],\n",
              "        ...,\n",
              "        [0.65251184],\n",
              "        [0.67972492],\n",
              "        [0.67656257]],\n",
              "\n",
              "       [[0.60850145],\n",
              "        [0.60392062],\n",
              "        [0.60337048],\n",
              "        ...,\n",
              "        [0.67972492],\n",
              "        [0.67656257],\n",
              "        [0.67753856]],\n",
              "\n",
              "       ...,\n",
              "\n",
              "       [[0.86341587],\n",
              "        [0.86705604],\n",
              "        [0.87493359],\n",
              "        ...,\n",
              "        [0.80812034],\n",
              "        [0.80037932],\n",
              "        [0.79705819]],\n",
              "\n",
              "       [[0.86705604],\n",
              "        [0.87493359],\n",
              "        [0.87763416],\n",
              "        ...,\n",
              "        [0.80037932],\n",
              "        [0.79705819],\n",
              "        [0.78877635]],\n",
              "\n",
              "       [[0.87493359],\n",
              "        [0.87763416],\n",
              "        [0.86858548],\n",
              "        ...,\n",
              "        [0.79705819],\n",
              "        [0.78877635],\n",
              "        [0.76899347]]])"
            ]
          },
          "execution_count": 20,
          "metadata": {},
          "output_type": "execute_result"
        }
      ]
    },
    {
      "cell_type": "code",
      "execution_count": 21,
      "metadata": {
        "colab": {
          "base_uri": "https://localhost:8080/"
        },
        "id": "J1Avg_l6-ROj",
        "outputId": "5f0db4cb-d2de-4c13-9758-93a66a5e7a00"
      },
      "outputs": [
        {
          "metadata": {
            "tags": null
          },
          "name": "stdout",
          "output_type": "stream",
          "text": [
            "19/19 [==============================] - 1s 34ms/step\n"
          ]
        }
      ],
      "source": [
        "y_forecast = best_model.predict(X_forecast)"
      ]
    },
    {
      "cell_type": "code",
      "source": [
        "y_forecast = scaler.inverse_transform(y_forecast)\n",
        "y_forecast = y_forecast[:, 0].reshape(-1, 1)"
      ],
      "metadata": {
        "id": "UHJrhpb4Ui1j"
      },
      "execution_count": 22,
      "outputs": []
    },
    {
      "cell_type": "code",
      "source": [
        "y_forecast.shape\n"
      ],
      "metadata": {
        "colab": {
          "base_uri": "https://localhost:8080/"
        },
        "id": "SAD8y5SRYTMW",
        "outputId": "ef1f2b58-8620-474e-9357-b19f4fc6416f"
      },
      "execution_count": 24,
      "outputs": [
        {
          "data": {
            "text/plain": [
              "(593, 1)"
            ]
          },
          "execution_count": 24,
          "metadata": {},
          "output_type": "execute_result"
        }
      ]
    },
    {
      "cell_type": "code",
      "source": [
        "import matplotlib.pyplot as plt\n",
        "import pandas as pd\n",
        "\n",
        "# Assuming 'y_forecast' and 'data' are your forecast and actual data respectively\n",
        "\n",
        "# Flatten y_forecast if it's not already flattened\n",
        "y_forecast = y_forecast.flatten()\n",
        "\n",
        "# Generate dates for forecast\n",
        "dates = pd.date_range(start='2023-03-01', periods=len(y_forecast), freq='D')\n",
        "\n",
        "# Create a DataFrame for the forecast\n",
        "forecast_df = pd.DataFrame({'ds': dates, 'y': y_forecast})\n",
        "\n",
        "# Plot actual and forecasted values\n",
        "plt.figure(figsize=(10, 6))  # Set figure size\n",
        "\n",
        "# Plot actual data in green color\n",
        "plt.plot(data['ds'], data['y'], label='Actual', color='green')\n",
        "\n",
        "# Plot forecasted data with dashed line in red color\n",
        "plt.plot(forecast_df['ds'], forecast_df['y'], label='Forecast', linestyle='--', color='red')\n",
        "\n",
        "# Set labels and title\n",
        "plt.xlabel('Date', fontsize=14)\n",
        "plt.ylabel('Value', fontsize=14)\n",
        "plt.title('Actual vs Forecasted', fontsize=16)\n",
        "\n",
        "# Add grid lines\n",
        "plt.grid(True)\n",
        "\n",
        "# Add legend\n",
        "plt.legend(fontsize=12)\n",
        "\n",
        "# Rotate x-axis labels for better readability\n",
        "plt.xticks(rotation=45)\n",
        "\n",
        "# Show plot\n",
        "plt.tight_layout()  # Adjust layout\n",
        "plt.show()\n",
        "\n"
      ],
      "metadata": {
        "colab": {
          "base_uri": "https://localhost:8080/",
          "height": 607
        },
        "id": "F38rdzNhUtBK",
        "outputId": "32ff9aa2-80cd-4140-ca7b-81b7d5e7cc7a"
      },
      "execution_count": 25,
      "outputs": [
        {
          "data": {
            "image/png": "[encoded data removed]",
            "text/plain": [
              "<Figure size 1000x600 with 1 Axes>"
            ]
          },
          "metadata": {},
          "output_type": "display_data"
        }
      ]
    },
    {
      "cell_type": "code",
      "source": [],
      "metadata": {
        "id": "DNDb1sh5XE0C"
      },
      "execution_count": 25,
      "outputs": []
    }
  ],
  "metadata": {
    "accelerator": "GPU",
    "colab": {
      "gpuType": "T4",
      "provenance": []
    },
    "kernelspec": {
      "display_name": "Python 3",
      "name": "python3"
    },
    "language_info": {
      "name": "python"
    }
  },
  "nbformat": 4,
  "nbformat_minor": 0
}